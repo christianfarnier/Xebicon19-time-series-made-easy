{
 "cells": [
  {
   "cell_type": "markdown",
   "metadata": {},
   "source": [
    "Utilisation de https://romannurik.github.io/SlidesCodeHighlighter/"
   ]
  },
  {
   "cell_type": "code",
   "execution_count": null,
   "metadata": {},
   "outputs": [],
   "source": [
    "from gluonts.model.deepar import DeepAREstimator\n",
    "from gluonts.trainer import Trainer\n",
    "from gluonts.dataset.common import ListDataset\n",
    "\n",
    "estimator = DeepAREstimator(freq=data_freq, \n",
    "                            prediction_length=7*24,\n",
    "                            trainer=Trainer(epochs=300, learning_rate = 0.01))\n",
    "\n",
    "# df_dict has regions as keys and region energy consumption dfs as values\n",
    "training_data = ListDataset(\n",
    "    [{\"item_id\": region,\n",
    "      \"start\": df_dict[region].index[0],\n",
    "      \"target\": df_dict[region][\"Consommation (MW)\"][:end_train_date]}\n",
    "    for region in df_dict.keys()],\n",
    "    freq = \"H\")\n",
    "\n",
    "predictor = estimator.train(training_data=training_data)"
   ]
  },
  {
   "cell_type": "code",
   "execution_count": null,
   "metadata": {},
   "outputs": [],
   "source": [
    "from gluonts.evaluation.backtest import make_evaluation_predictions\n",
    "\n",
    "test_data = ListDataset(\n",
    "            [{\"item_id\": region,\n",
    "              \"start\": df_dict[region].index[0],\n",
    "              \"target\": df_dict[region][\"Consommation (MW)\"][:test_date + timedelta(hours=7*24)]}\n",
    "            for region in regions_list],\n",
    "            freq = \"H\")\n",
    "\n",
    "forecast_it, ts_it = make_evaluation_predictions(test_data, predictor=predictor, num_eval_samples=100)\n",
    "\n",
    "first_forecast = list(forecast_it)[0]\n",
    "first_predictions = first_forecast.mean"
   ]
  },
  {
   "cell_type": "code",
   "execution_count": null,
   "metadata": {},
   "outputs": [],
   "source": [
    "estimator = DeepAREstimator(freq=data_freq, \n",
    "                            prediction_length=7*24,\n",
    "                            trainer=Trainer(epochs=300, learning_rate = 0.01),\n",
    "                            use_feat_dynamic_real=True)\n",
    "\n",
    "training_data = ListDataset(\n",
    "    [{\"item_id\": region,\n",
    "      \"start\": df_dict[region].index[0],\n",
    "      \"target\": df_dict[region][\"Consommation (MW)\"][:end_train_date],\n",
    "      \"feat_dynamic_real\": [df_dict[region][\"max_temp_paris\"][:end_train_date]\n",
    "                            for feat_dynamic_col in feat_dynamic_cols]}\n",
    "    for region in df_dict.keys()],\n",
    "    freq = \"H\")"
   ]
  }
 ],
 "metadata": {
  "kernelspec": {
   "display_name": "Python 3",
   "language": "python",
   "name": "python3"
  },
  "language_info": {
   "codemirror_mode": {
    "name": "ipython",
    "version": 3
   },
   "file_extension": ".py",
   "mimetype": "text/x-python",
   "name": "python",
   "nbconvert_exporter": "python",
   "pygments_lexer": "ipython3",
   "version": "3.7.5"
  }
 },
 "nbformat": 4,
 "nbformat_minor": 2
}
