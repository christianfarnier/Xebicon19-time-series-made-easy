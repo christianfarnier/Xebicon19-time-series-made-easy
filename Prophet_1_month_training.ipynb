{
 "cells": [
  {
   "cell_type": "code",
   "execution_count": 1,
   "metadata": {},
   "outputs": [],
   "source": [
    "import pandas as pd\n",
    "from fbprophet import Prophet"
   ]
  },
  {
   "cell_type": "code",
   "execution_count": 2,
   "metadata": {},
   "outputs": [],
   "source": [
    "%matplotlib inline\n",
    "from fbprophet import Prophet\n",
    "import pandas as pd\n",
    "from matplotlib import pyplot as plt\n",
    "import numpy as np\n",
    "from datetime import datetime, timedelta\n",
    "pd.set_option('display.max_rows', 500)\n",
    "pd.set_option('display.max_columns', 500)\n",
    "pd.set_option('display.width', 1000)\n",
    "from pytz import timezone as tz"
   ]
  },
  {
   "cell_type": "code",
   "execution_count": 3,
   "metadata": {},
   "outputs": [],
   "source": [
    "from time import time\n",
    "from datetime import date\n",
    "from datetime import datetime"
   ]
  },
  {
   "cell_type": "code",
   "execution_count": 4,
   "metadata": {},
   "outputs": [],
   "source": [
    "# Measure performance:\n",
    "\n",
    "def mean_absolute_percentage_error(y_true, y_pred): \n",
    "    y_true, y_pred = np.array(y_true), np.array(y_pred)\n",
    "    return np.mean(np.abs((y_true - y_pred) / y_true)) * 100"
   ]
  },
  {
   "cell_type": "code",
   "execution_count": 5,
   "metadata": {},
   "outputs": [],
   "source": [
    "df_energy = pd.read_csv('../data/'+ \"eco2mix-regional-cons-def.csv\", sep=\";\",\n",
    "                parse_dates=[\"Date - Heure\"]).sort_values(by=[\"Région\", \"Date - Heure\"])"
   ]
  },
  {
   "cell_type": "code",
   "execution_count": 6,
   "metadata": {},
   "outputs": [],
   "source": [
    "df_energy = df_energy[[\"Région\", \"Date - Heure\", \"Consommation (MW)\"]]"
   ]
  },
  {
   "cell_type": "code",
   "execution_count": 7,
   "metadata": {},
   "outputs": [],
   "source": [
    "df_energy.fillna(df_energy.dropna()[\"Consommation (MW)\"].mean(), inplace=True)"
   ]
  },
  {
   "cell_type": "code",
   "execution_count": 8,
   "metadata": {},
   "outputs": [
    {
     "data": {
      "text/plain": [
       "Région               0\n",
       "Date - Heure         0\n",
       "Consommation (MW)    0\n",
       "dtype: int64"
      ]
     },
     "execution_count": 8,
     "metadata": {},
     "output_type": "execute_result"
    }
   ],
   "source": [
    "df_energy.isnull().sum()"
   ]
  },
  {
   "cell_type": "code",
   "execution_count": 9,
   "metadata": {},
   "outputs": [
    {
     "data": {
      "text/plain": [
       "Région                object\n",
       "Date - Heure          object\n",
       "Consommation (MW)    float64\n",
       "dtype: object"
      ]
     },
     "execution_count": 9,
     "metadata": {},
     "output_type": "execute_result"
    }
   ],
   "source": [
    "df_energy.dtypes"
   ]
  },
  {
   "cell_type": "code",
   "execution_count": 10,
   "metadata": {},
   "outputs": [
    {
     "data": {
      "text/html": [
       "<div>\n",
       "<style scoped>\n",
       "    .dataframe tbody tr th:only-of-type {\n",
       "        vertical-align: middle;\n",
       "    }\n",
       "\n",
       "    .dataframe tbody tr th {\n",
       "        vertical-align: top;\n",
       "    }\n",
       "\n",
       "    .dataframe thead th {\n",
       "        text-align: right;\n",
       "    }\n",
       "</style>\n",
       "<table border=\"1\" class=\"dataframe\">\n",
       "  <thead>\n",
       "    <tr style=\"text-align: right;\">\n",
       "      <th></th>\n",
       "      <th>Région</th>\n",
       "      <th>Date - Heure</th>\n",
       "      <th>Consommation (MW)</th>\n",
       "      <th>date</th>\n",
       "    </tr>\n",
       "  </thead>\n",
       "  <tbody>\n",
       "    <tr>\n",
       "      <td>147167</td>\n",
       "      <td>Auvergne-Rhône-Alpes</td>\n",
       "      <td>2013-01-01 00:00:00+01:00</td>\n",
       "      <td>4528.493194</td>\n",
       "      <td>2013-01-01 00:00:00</td>\n",
       "    </tr>\n",
       "    <tr>\n",
       "      <td>147170</td>\n",
       "      <td>Auvergne-Rhône-Alpes</td>\n",
       "      <td>2013-01-01 00:30:00+01:00</td>\n",
       "      <td>8173.000000</td>\n",
       "      <td>2013-01-01 01:00:00</td>\n",
       "    </tr>\n",
       "    <tr>\n",
       "      <td>1017843</td>\n",
       "      <td>Auvergne-Rhône-Alpes</td>\n",
       "      <td>2013-01-01 01:00:00+01:00</td>\n",
       "      <td>7944.000000</td>\n",
       "      <td>2013-01-01 01:00:00</td>\n",
       "    </tr>\n",
       "  </tbody>\n",
       "</table>\n",
       "</div>"
      ],
      "text/plain": [
       "                       Région               Date - Heure  Consommation (MW)                date\n",
       "147167   Auvergne-Rhône-Alpes  2013-01-01 00:00:00+01:00        4528.493194 2013-01-01 00:00:00\n",
       "147170   Auvergne-Rhône-Alpes  2013-01-01 00:30:00+01:00        8173.000000 2013-01-01 01:00:00\n",
       "1017843  Auvergne-Rhône-Alpes  2013-01-01 01:00:00+01:00        7944.000000 2013-01-01 01:00:00"
      ]
     },
     "execution_count": 10,
     "metadata": {},
     "output_type": "execute_result"
    }
   ],
   "source": [
    "df_energy.fillna(df_energy.dropna()[\"Consommation (MW)\"].mean(), inplace=True)\n",
    "df_energy[\"date\"] = df_energy[\"Date - Heure\"].apply(lambda x: x + timedelta(minutes=x.minute))\n",
    "df_energy[\"date\"] = df_energy[\"date\"].apply(lambda x: x.astimezone(tz(\"UTC\")))\n",
    "df_energy[\"date\"] = df_energy[\"date\"].apply(lambda x: x.fromtimestamp(x.timestamp()))\n",
    "df_energy.head(3)"
   ]
  },
  {
   "cell_type": "code",
   "execution_count": 11,
   "metadata": {},
   "outputs": [
    {
     "data": {
      "text/html": [
       "<div>\n",
       "<style scoped>\n",
       "    .dataframe tbody tr th:only-of-type {\n",
       "        vertical-align: middle;\n",
       "    }\n",
       "\n",
       "    .dataframe tbody tr th {\n",
       "        vertical-align: top;\n",
       "    }\n",
       "\n",
       "    .dataframe thead th {\n",
       "        text-align: right;\n",
       "    }\n",
       "</style>\n",
       "<table border=\"1\" class=\"dataframe\">\n",
       "  <thead>\n",
       "    <tr style=\"text-align: right;\">\n",
       "      <th></th>\n",
       "      <th>Région</th>\n",
       "      <th>Date - Heure</th>\n",
       "      <th>Consommation (MW)</th>\n",
       "      <th>date</th>\n",
       "    </tr>\n",
       "  </thead>\n",
       "  <tbody>\n",
       "    <tr>\n",
       "      <td>147167</td>\n",
       "      <td>Auvergne-Rhône-Alpes</td>\n",
       "      <td>2013-01-01 00:00:00+01:00</td>\n",
       "      <td>4528.493194</td>\n",
       "      <td>2013-01-01 00:00:00</td>\n",
       "    </tr>\n",
       "    <tr>\n",
       "      <td>147170</td>\n",
       "      <td>Auvergne-Rhône-Alpes</td>\n",
       "      <td>2013-01-01 00:30:00+01:00</td>\n",
       "      <td>8173.000000</td>\n",
       "      <td>2013-01-01 01:00:00</td>\n",
       "    </tr>\n",
       "    <tr>\n",
       "      <td>1017843</td>\n",
       "      <td>Auvergne-Rhône-Alpes</td>\n",
       "      <td>2013-01-01 01:00:00+01:00</td>\n",
       "      <td>7944.000000</td>\n",
       "      <td>2013-01-01 01:00:00</td>\n",
       "    </tr>\n",
       "    <tr>\n",
       "      <td>147173</td>\n",
       "      <td>Auvergne-Rhône-Alpes</td>\n",
       "      <td>2013-01-01 01:30:00+01:00</td>\n",
       "      <td>7896.000000</td>\n",
       "      <td>2013-01-01 02:00:00</td>\n",
       "    </tr>\n",
       "    <tr>\n",
       "      <td>1017845</td>\n",
       "      <td>Auvergne-Rhône-Alpes</td>\n",
       "      <td>2013-01-01 02:00:00+01:00</td>\n",
       "      <td>7882.000000</td>\n",
       "      <td>2013-01-01 02:00:00</td>\n",
       "    </tr>\n",
       "  </tbody>\n",
       "</table>\n",
       "</div>"
      ],
      "text/plain": [
       "                       Région               Date - Heure  Consommation (MW)                date\n",
       "147167   Auvergne-Rhône-Alpes  2013-01-01 00:00:00+01:00        4528.493194 2013-01-01 00:00:00\n",
       "147170   Auvergne-Rhône-Alpes  2013-01-01 00:30:00+01:00        8173.000000 2013-01-01 01:00:00\n",
       "1017843  Auvergne-Rhône-Alpes  2013-01-01 01:00:00+01:00        7944.000000 2013-01-01 01:00:00\n",
       "147173   Auvergne-Rhône-Alpes  2013-01-01 01:30:00+01:00        7896.000000 2013-01-01 02:00:00\n",
       "1017845  Auvergne-Rhône-Alpes  2013-01-01 02:00:00+01:00        7882.000000 2013-01-01 02:00:00"
      ]
     },
     "execution_count": 11,
     "metadata": {},
     "output_type": "execute_result"
    }
   ],
   "source": [
    "df_energy.head()"
   ]
  },
  {
   "cell_type": "code",
   "execution_count": 12,
   "metadata": {},
   "outputs": [],
   "source": [
    "# group by day:\n",
    "df_region_per_hour = df_energy.groupby([\"Région\", \"date\"], as_index=False).agg({\"Consommation (MW)\": np.sum})"
   ]
  },
  {
   "cell_type": "code",
   "execution_count": 13,
   "metadata": {},
   "outputs": [
    {
     "data": {
      "text/html": [
       "<div>\n",
       "<style scoped>\n",
       "    .dataframe tbody tr th:only-of-type {\n",
       "        vertical-align: middle;\n",
       "    }\n",
       "\n",
       "    .dataframe tbody tr th {\n",
       "        vertical-align: top;\n",
       "    }\n",
       "\n",
       "    .dataframe thead th {\n",
       "        text-align: right;\n",
       "    }\n",
       "</style>\n",
       "<table border=\"1\" class=\"dataframe\">\n",
       "  <thead>\n",
       "    <tr style=\"text-align: right;\">\n",
       "      <th></th>\n",
       "      <th>Région</th>\n",
       "      <th>date</th>\n",
       "      <th>Consommation (MW)</th>\n",
       "    </tr>\n",
       "  </thead>\n",
       "  <tbody>\n",
       "    <tr>\n",
       "      <td>0</td>\n",
       "      <td>Auvergne-Rhône-Alpes</td>\n",
       "      <td>2013-01-01 00:00:00</td>\n",
       "      <td>4528.493194</td>\n",
       "    </tr>\n",
       "    <tr>\n",
       "      <td>1</td>\n",
       "      <td>Auvergne-Rhône-Alpes</td>\n",
       "      <td>2013-01-01 01:00:00</td>\n",
       "      <td>16117.000000</td>\n",
       "    </tr>\n",
       "    <tr>\n",
       "      <td>2</td>\n",
       "      <td>Auvergne-Rhône-Alpes</td>\n",
       "      <td>2013-01-01 02:00:00</td>\n",
       "      <td>15778.000000</td>\n",
       "    </tr>\n",
       "    <tr>\n",
       "      <td>3</td>\n",
       "      <td>Auvergne-Rhône-Alpes</td>\n",
       "      <td>2013-01-01 03:00:00</td>\n",
       "      <td>15618.000000</td>\n",
       "    </tr>\n",
       "    <tr>\n",
       "      <td>4</td>\n",
       "      <td>Auvergne-Rhône-Alpes</td>\n",
       "      <td>2013-01-01 04:00:00</td>\n",
       "      <td>14944.000000</td>\n",
       "    </tr>\n",
       "  </tbody>\n",
       "</table>\n",
       "</div>"
      ],
      "text/plain": [
       "                 Région                date  Consommation (MW)\n",
       "0  Auvergne-Rhône-Alpes 2013-01-01 00:00:00        4528.493194\n",
       "1  Auvergne-Rhône-Alpes 2013-01-01 01:00:00       16117.000000\n",
       "2  Auvergne-Rhône-Alpes 2013-01-01 02:00:00       15778.000000\n",
       "3  Auvergne-Rhône-Alpes 2013-01-01 03:00:00       15618.000000\n",
       "4  Auvergne-Rhône-Alpes 2013-01-01 04:00:00       14944.000000"
      ]
     },
     "execution_count": 13,
     "metadata": {},
     "output_type": "execute_result"
    }
   ],
   "source": [
    "df_region_per_hour.head()"
   ]
  },
  {
   "cell_type": "code",
   "execution_count": 14,
   "metadata": {},
   "outputs": [
    {
     "data": {
      "text/plain": [
       "Région                       object\n",
       "date                 datetime64[ns]\n",
       "Consommation (MW)           float64\n",
       "dtype: object"
      ]
     },
     "execution_count": 14,
     "metadata": {},
     "output_type": "execute_result"
    }
   ],
   "source": [
    "df_region_per_hour.dtypes"
   ]
  },
  {
   "cell_type": "markdown",
   "metadata": {},
   "source": [
    "# Filter on Ile de France"
   ]
  },
  {
   "cell_type": "code",
   "execution_count": 15,
   "metadata": {},
   "outputs": [],
   "source": [
    "df_region_per_hour_ile_de_france = df_region_per_hour[df_region_per_hour['Région']=='Ile-de-France']"
   ]
  },
  {
   "cell_type": "code",
   "execution_count": 16,
   "metadata": {},
   "outputs": [
    {
     "data": {
      "text/plain": [
       "[<matplotlib.lines.Line2D at 0x1a2cf1cf98>]"
      ]
     },
     "execution_count": 16,
     "metadata": {},
     "output_type": "execute_result"
    },
    {
     "data": {
      "image/png": "[encoded data removed]",
      "text/plain": [
       "<Figure size 720x360 with 1 Axes>"
      ]
     },
     "metadata": {
      "needs_background": "light"
     },
     "output_type": "display_data"
    }
   ],
   "source": [
    "plt.figure(figsize=(10,5))\n",
    "plt.plot(df_region_per_hour_ile_de_france[\"date\"], df_region_per_hour_ile_de_france[\"Consommation (MW)\"])"
   ]
  },
  {
   "cell_type": "code",
   "execution_count": 17,
   "metadata": {},
   "outputs": [],
   "source": [
    "#restraindre la durée"
   ]
  },
  {
   "cell_type": "code",
   "execution_count": 18,
   "metadata": {},
   "outputs": [],
   "source": [
    "df_region_per_hour_ile_de_france_small = df_region_per_hour_ile_de_france[(df_region_per_hour_ile_de_france['date']>='2017-01-01 00:00:00')&(df_region_per_hour_ile_de_france['date']<'2019-01-15 00:00:00')]\n",
    "\n",
    "\n"
   ]
  },
  {
   "cell_type": "code",
   "execution_count": 19,
   "metadata": {},
   "outputs": [],
   "source": [
    "df_region_per_hour_ile_de_france_small.to_csv('../data/ile_de_france_dataset.csv')"
   ]
  },
  {
   "cell_type": "markdown",
   "metadata": {},
   "source": [
    "# Prophet for forcasting Ile de France energy"
   ]
  },
  {
   "cell_type": "code",
   "execution_count": 20,
   "metadata": {},
   "outputs": [
    {
     "data": {
      "text/plain": [
       "Région                       object\n",
       "date                 datetime64[ns]\n",
       "Consommation (MW)           float64\n",
       "dtype: object"
      ]
     },
     "execution_count": 20,
     "metadata": {},
     "output_type": "execute_result"
    }
   ],
   "source": [
    "df_region_per_hour_ile_de_france_small.dtypes"
   ]
  },
  {
   "cell_type": "code",
   "execution_count": 21,
   "metadata": {},
   "outputs": [
    {
     "data": {
      "text/html": [
       "<div>\n",
       "<style scoped>\n",
       "    .dataframe tbody tr th:only-of-type {\n",
       "        vertical-align: middle;\n",
       "    }\n",
       "\n",
       "    .dataframe tbody tr th {\n",
       "        vertical-align: top;\n",
       "    }\n",
       "\n",
       "    .dataframe thead th {\n",
       "        text-align: right;\n",
       "    }\n",
       "</style>\n",
       "<table border=\"1\" class=\"dataframe\">\n",
       "  <thead>\n",
       "    <tr style=\"text-align: right;\">\n",
       "      <th></th>\n",
       "      <th>Région</th>\n",
       "      <th>date</th>\n",
       "      <th>Consommation (MW)</th>\n",
       "    </tr>\n",
       "  </thead>\n",
       "  <tbody>\n",
       "    <tr>\n",
       "      <td>385520</td>\n",
       "      <td>Ile-de-France</td>\n",
       "      <td>2017-01-01 00:00:00</td>\n",
       "      <td>24147.0</td>\n",
       "    </tr>\n",
       "    <tr>\n",
       "      <td>385521</td>\n",
       "      <td>Ile-de-France</td>\n",
       "      <td>2017-01-01 01:00:00</td>\n",
       "      <td>23337.0</td>\n",
       "    </tr>\n",
       "    <tr>\n",
       "      <td>385522</td>\n",
       "      <td>Ile-de-France</td>\n",
       "      <td>2017-01-01 02:00:00</td>\n",
       "      <td>22179.0</td>\n",
       "    </tr>\n",
       "    <tr>\n",
       "      <td>385523</td>\n",
       "      <td>Ile-de-France</td>\n",
       "      <td>2017-01-01 03:00:00</td>\n",
       "      <td>21433.0</td>\n",
       "    </tr>\n",
       "    <tr>\n",
       "      <td>385524</td>\n",
       "      <td>Ile-de-France</td>\n",
       "      <td>2017-01-01 04:00:00</td>\n",
       "      <td>20597.0</td>\n",
       "    </tr>\n",
       "  </tbody>\n",
       "</table>\n",
       "</div>"
      ],
      "text/plain": [
       "               Région                date  Consommation (MW)\n",
       "385520  Ile-de-France 2017-01-01 00:00:00            24147.0\n",
       "385521  Ile-de-France 2017-01-01 01:00:00            23337.0\n",
       "385522  Ile-de-France 2017-01-01 02:00:00            22179.0\n",
       "385523  Ile-de-France 2017-01-01 03:00:00            21433.0\n",
       "385524  Ile-de-France 2017-01-01 04:00:00            20597.0"
      ]
     },
     "execution_count": 21,
     "metadata": {},
     "output_type": "execute_result"
    }
   ],
   "source": [
    "df_region_per_hour_ile_de_france_small.head()"
   ]
  },
  {
   "cell_type": "code",
   "execution_count": 22,
   "metadata": {},
   "outputs": [
    {
     "name": "stderr",
     "output_type": "stream",
     "text": [
      "/anaconda3/lib/python3.7/site-packages/ipykernel_launcher.py:1: SettingWithCopyWarning:\n",
      "\n",
      "\n",
      "A value is trying to be set on a copy of a slice from a DataFrame.\n",
      "Try using .loc[row_indexer,col_indexer] = value instead\n",
      "\n",
      "See the caveats in the documentation: http://pandas.pydata.org/pandas-docs/stable/user_guide/indexing.html#returning-a-view-versus-a-copy\n",
      "\n"
     ]
    }
   ],
   "source": [
    "df_region_per_hour_ile_de_france_small['date_time']=pd.to_datetime(df_region_per_hour_ile_de_france_small['date'], format='%Y-%m-%d')"
   ]
  },
  {
   "cell_type": "code",
   "execution_count": 23,
   "metadata": {},
   "outputs": [
    {
     "data": {
      "text/html": [
       "<div>\n",
       "<style scoped>\n",
       "    .dataframe tbody tr th:only-of-type {\n",
       "        vertical-align: middle;\n",
       "    }\n",
       "\n",
       "    .dataframe tbody tr th {\n",
       "        vertical-align: top;\n",
       "    }\n",
       "\n",
       "    .dataframe thead th {\n",
       "        text-align: right;\n",
       "    }\n",
       "</style>\n",
       "<table border=\"1\" class=\"dataframe\">\n",
       "  <thead>\n",
       "    <tr style=\"text-align: right;\">\n",
       "      <th></th>\n",
       "      <th>Région</th>\n",
       "      <th>date</th>\n",
       "      <th>Consommation (MW)</th>\n",
       "      <th>date_time</th>\n",
       "    </tr>\n",
       "  </thead>\n",
       "  <tbody>\n",
       "    <tr>\n",
       "      <td>385520</td>\n",
       "      <td>Ile-de-France</td>\n",
       "      <td>2017-01-01 00:00:00</td>\n",
       "      <td>24147.0</td>\n",
       "      <td>2017-01-01 00:00:00</td>\n",
       "    </tr>\n",
       "    <tr>\n",
       "      <td>385521</td>\n",
       "      <td>Ile-de-France</td>\n",
       "      <td>2017-01-01 01:00:00</td>\n",
       "      <td>23337.0</td>\n",
       "      <td>2017-01-01 01:00:00</td>\n",
       "    </tr>\n",
       "    <tr>\n",
       "      <td>385522</td>\n",
       "      <td>Ile-de-France</td>\n",
       "      <td>2017-01-01 02:00:00</td>\n",
       "      <td>22179.0</td>\n",
       "      <td>2017-01-01 02:00:00</td>\n",
       "    </tr>\n",
       "    <tr>\n",
       "      <td>385523</td>\n",
       "      <td>Ile-de-France</td>\n",
       "      <td>2017-01-01 03:00:00</td>\n",
       "      <td>21433.0</td>\n",
       "      <td>2017-01-01 03:00:00</td>\n",
       "    </tr>\n",
       "    <tr>\n",
       "      <td>385524</td>\n",
       "      <td>Ile-de-France</td>\n",
       "      <td>2017-01-01 04:00:00</td>\n",
       "      <td>20597.0</td>\n",
       "      <td>2017-01-01 04:00:00</td>\n",
       "    </tr>\n",
       "  </tbody>\n",
       "</table>\n",
       "</div>"
      ],
      "text/plain": [
       "               Région                date  Consommation (MW)           date_time\n",
       "385520  Ile-de-France 2017-01-01 00:00:00            24147.0 2017-01-01 00:00:00\n",
       "385521  Ile-de-France 2017-01-01 01:00:00            23337.0 2017-01-01 01:00:00\n",
       "385522  Ile-de-France 2017-01-01 02:00:00            22179.0 2017-01-01 02:00:00\n",
       "385523  Ile-de-France 2017-01-01 03:00:00            21433.0 2017-01-01 03:00:00\n",
       "385524  Ile-de-France 2017-01-01 04:00:00            20597.0 2017-01-01 04:00:00"
      ]
     },
     "execution_count": 23,
     "metadata": {},
     "output_type": "execute_result"
    }
   ],
   "source": [
    "df_region_per_hour_ile_de_france_small.head()"
   ]
  },
  {
   "cell_type": "code",
   "execution_count": 24,
   "metadata": {
    "scrolled": true
   },
   "outputs": [
    {
     "data": {
      "text/plain": [
       "Région                       object\n",
       "date                 datetime64[ns]\n",
       "Consommation (MW)           float64\n",
       "date_time            datetime64[ns]\n",
       "dtype: object"
      ]
     },
     "execution_count": 24,
     "metadata": {},
     "output_type": "execute_result"
    }
   ],
   "source": [
    "df_region_per_hour_ile_de_france_small.dtypes"
   ]
  },
  {
   "cell_type": "code",
   "execution_count": 25,
   "metadata": {},
   "outputs": [],
   "source": [
    "# Select training set:\n",
    "df_region_per_hour_ile_de_france_small_train = df_region_per_hour_ile_de_france_small[(df_region_per_hour_ile_de_france_small['date_time']<='2018-12-31 23:00:00')&(df_region_per_hour_ile_de_france_small['date_time']>='2018-12-01 00:00:00')]\n",
    "\n"
   ]
  },
  {
   "cell_type": "code",
   "execution_count": 26,
   "metadata": {},
   "outputs": [
    {
     "data": {
      "text/html": [
       "<div>\n",
       "<style scoped>\n",
       "    .dataframe tbody tr th:only-of-type {\n",
       "        vertical-align: middle;\n",
       "    }\n",
       "\n",
       "    .dataframe tbody tr th {\n",
       "        vertical-align: top;\n",
       "    }\n",
       "\n",
       "    .dataframe thead th {\n",
       "        text-align: right;\n",
       "    }\n",
       "</style>\n",
       "<table border=\"1\" class=\"dataframe\">\n",
       "  <thead>\n",
       "    <tr style=\"text-align: right;\">\n",
       "      <th></th>\n",
       "      <th>Région</th>\n",
       "      <th>date</th>\n",
       "      <th>Consommation (MW)</th>\n",
       "      <th>date_time</th>\n",
       "    </tr>\n",
       "  </thead>\n",
       "  <tbody>\n",
       "    <tr>\n",
       "      <td>402294</td>\n",
       "      <td>Ile-de-France</td>\n",
       "      <td>2018-12-01 00:00:00</td>\n",
       "      <td>18490.0</td>\n",
       "      <td>2018-12-01 00:00:00</td>\n",
       "    </tr>\n",
       "    <tr>\n",
       "      <td>402295</td>\n",
       "      <td>Ile-de-France</td>\n",
       "      <td>2018-12-01 01:00:00</td>\n",
       "      <td>17163.0</td>\n",
       "      <td>2018-12-01 01:00:00</td>\n",
       "    </tr>\n",
       "    <tr>\n",
       "      <td>402296</td>\n",
       "      <td>Ile-de-France</td>\n",
       "      <td>2018-12-01 02:00:00</td>\n",
       "      <td>15562.0</td>\n",
       "      <td>2018-12-01 02:00:00</td>\n",
       "    </tr>\n",
       "    <tr>\n",
       "      <td>402297</td>\n",
       "      <td>Ile-de-France</td>\n",
       "      <td>2018-12-01 03:00:00</td>\n",
       "      <td>14980.0</td>\n",
       "      <td>2018-12-01 03:00:00</td>\n",
       "    </tr>\n",
       "    <tr>\n",
       "      <td>402298</td>\n",
       "      <td>Ile-de-France</td>\n",
       "      <td>2018-12-01 04:00:00</td>\n",
       "      <td>14473.0</td>\n",
       "      <td>2018-12-01 04:00:00</td>\n",
       "    </tr>\n",
       "  </tbody>\n",
       "</table>\n",
       "</div>"
      ],
      "text/plain": [
       "               Région                date  Consommation (MW)           date_time\n",
       "402294  Ile-de-France 2018-12-01 00:00:00            18490.0 2018-12-01 00:00:00\n",
       "402295  Ile-de-France 2018-12-01 01:00:00            17163.0 2018-12-01 01:00:00\n",
       "402296  Ile-de-France 2018-12-01 02:00:00            15562.0 2018-12-01 02:00:00\n",
       "402297  Ile-de-France 2018-12-01 03:00:00            14980.0 2018-12-01 03:00:00\n",
       "402298  Ile-de-France 2018-12-01 04:00:00            14473.0 2018-12-01 04:00:00"
      ]
     },
     "execution_count": 26,
     "metadata": {},
     "output_type": "execute_result"
    }
   ],
   "source": [
    "df_region_per_hour_ile_de_france_small_train.head()"
   ]
  },
  {
   "cell_type": "code",
   "execution_count": 27,
   "metadata": {},
   "outputs": [
    {
     "data": {
      "text/html": [
       "<div>\n",
       "<style scoped>\n",
       "    .dataframe tbody tr th:only-of-type {\n",
       "        vertical-align: middle;\n",
       "    }\n",
       "\n",
       "    .dataframe tbody tr th {\n",
       "        vertical-align: top;\n",
       "    }\n",
       "\n",
       "    .dataframe thead th {\n",
       "        text-align: right;\n",
       "    }\n",
       "</style>\n",
       "<table border=\"1\" class=\"dataframe\">\n",
       "  <thead>\n",
       "    <tr style=\"text-align: right;\">\n",
       "      <th></th>\n",
       "      <th>Région</th>\n",
       "      <th>date</th>\n",
       "      <th>Consommation (MW)</th>\n",
       "      <th>date_time</th>\n",
       "    </tr>\n",
       "  </thead>\n",
       "  <tbody>\n",
       "    <tr>\n",
       "      <td>403033</td>\n",
       "      <td>Ile-de-France</td>\n",
       "      <td>2018-12-31 19:00:00</td>\n",
       "      <td>20763.0</td>\n",
       "      <td>2018-12-31 19:00:00</td>\n",
       "    </tr>\n",
       "    <tr>\n",
       "      <td>403034</td>\n",
       "      <td>Ile-de-France</td>\n",
       "      <td>2018-12-31 20:00:00</td>\n",
       "      <td>20236.0</td>\n",
       "      <td>2018-12-31 20:00:00</td>\n",
       "    </tr>\n",
       "    <tr>\n",
       "      <td>403035</td>\n",
       "      <td>Ile-de-France</td>\n",
       "      <td>2018-12-31 21:00:00</td>\n",
       "      <td>18923.0</td>\n",
       "      <td>2018-12-31 21:00:00</td>\n",
       "    </tr>\n",
       "    <tr>\n",
       "      <td>403036</td>\n",
       "      <td>Ile-de-France</td>\n",
       "      <td>2018-12-31 22:00:00</td>\n",
       "      <td>17614.0</td>\n",
       "      <td>2018-12-31 22:00:00</td>\n",
       "    </tr>\n",
       "    <tr>\n",
       "      <td>403037</td>\n",
       "      <td>Ile-de-France</td>\n",
       "      <td>2018-12-31 23:00:00</td>\n",
       "      <td>18173.0</td>\n",
       "      <td>2018-12-31 23:00:00</td>\n",
       "    </tr>\n",
       "  </tbody>\n",
       "</table>\n",
       "</div>"
      ],
      "text/plain": [
       "               Région                date  Consommation (MW)           date_time\n",
       "403033  Ile-de-France 2018-12-31 19:00:00            20763.0 2018-12-31 19:00:00\n",
       "403034  Ile-de-France 2018-12-31 20:00:00            20236.0 2018-12-31 20:00:00\n",
       "403035  Ile-de-France 2018-12-31 21:00:00            18923.0 2018-12-31 21:00:00\n",
       "403036  Ile-de-France 2018-12-31 22:00:00            17614.0 2018-12-31 22:00:00\n",
       "403037  Ile-de-France 2018-12-31 23:00:00            18173.0 2018-12-31 23:00:00"
      ]
     },
     "execution_count": 27,
     "metadata": {},
     "output_type": "execute_result"
    }
   ],
   "source": [
    "df_region_per_hour_ile_de_france_small_train.tail()"
   ]
  },
  {
   "cell_type": "code",
   "execution_count": 28,
   "metadata": {},
   "outputs": [],
   "source": [
    "model_energy = Prophet(interval_width=0.9)\n"
   ]
  },
  {
   "cell_type": "code",
   "execution_count": 29,
   "metadata": {},
   "outputs": [
    {
     "name": "stderr",
     "output_type": "stream",
     "text": [
      "/anaconda3/lib/python3.7/site-packages/pandas/core/frame.py:4223: SettingWithCopyWarning:\n",
      "\n",
      "\n",
      "A value is trying to be set on a copy of a slice from a DataFrame\n",
      "\n",
      "See the caveats in the documentation: http://pandas.pydata.org/pandas-docs/stable/user_guide/indexing.html#returning-a-view-versus-a-copy\n",
      "\n"
     ]
    }
   ],
   "source": [
    "df_region_per_hour_ile_de_france_small_train.rename(columns={\"date_time\": \"ds\"}, inplace=True)\n",
    "df_region_per_hour_ile_de_france_small_train.rename(columns={\"Consommation (MW)\": \"y\"}, inplace=True)"
   ]
  },
  {
   "cell_type": "code",
   "execution_count": 30,
   "metadata": {},
   "outputs": [],
   "source": [
    "df_prophet_train = df_region_per_hour_ile_de_france_small_train[['ds','y']]"
   ]
  },
  {
   "cell_type": "code",
   "execution_count": 31,
   "metadata": {},
   "outputs": [
    {
     "data": {
      "text/html": [
       "<div>\n",
       "<style scoped>\n",
       "    .dataframe tbody tr th:only-of-type {\n",
       "        vertical-align: middle;\n",
       "    }\n",
       "\n",
       "    .dataframe tbody tr th {\n",
       "        vertical-align: top;\n",
       "    }\n",
       "\n",
       "    .dataframe thead th {\n",
       "        text-align: right;\n",
       "    }\n",
       "</style>\n",
       "<table border=\"1\" class=\"dataframe\">\n",
       "  <thead>\n",
       "    <tr style=\"text-align: right;\">\n",
       "      <th></th>\n",
       "      <th>ds</th>\n",
       "      <th>y</th>\n",
       "    </tr>\n",
       "  </thead>\n",
       "  <tbody>\n",
       "    <tr>\n",
       "      <td>402294</td>\n",
       "      <td>2018-12-01 00:00:00</td>\n",
       "      <td>18490.0</td>\n",
       "    </tr>\n",
       "    <tr>\n",
       "      <td>402295</td>\n",
       "      <td>2018-12-01 01:00:00</td>\n",
       "      <td>17163.0</td>\n",
       "    </tr>\n",
       "    <tr>\n",
       "      <td>402296</td>\n",
       "      <td>2018-12-01 02:00:00</td>\n",
       "      <td>15562.0</td>\n",
       "    </tr>\n",
       "    <tr>\n",
       "      <td>402297</td>\n",
       "      <td>2018-12-01 03:00:00</td>\n",
       "      <td>14980.0</td>\n",
       "    </tr>\n",
       "    <tr>\n",
       "      <td>402298</td>\n",
       "      <td>2018-12-01 04:00:00</td>\n",
       "      <td>14473.0</td>\n",
       "    </tr>\n",
       "  </tbody>\n",
       "</table>\n",
       "</div>"
      ],
      "text/plain": [
       "                        ds        y\n",
       "402294 2018-12-01 00:00:00  18490.0\n",
       "402295 2018-12-01 01:00:00  17163.0\n",
       "402296 2018-12-01 02:00:00  15562.0\n",
       "402297 2018-12-01 03:00:00  14980.0\n",
       "402298 2018-12-01 04:00:00  14473.0"
      ]
     },
     "execution_count": 31,
     "metadata": {},
     "output_type": "execute_result"
    }
   ],
   "source": [
    "df_prophet_train.head()"
   ]
  },
  {
   "cell_type": "code",
   "execution_count": 32,
   "metadata": {},
   "outputs": [
    {
     "data": {
      "text/plain": [
       "ds    744\n",
       "y     744\n",
       "dtype: int64"
      ]
     },
     "execution_count": 32,
     "metadata": {},
     "output_type": "execute_result"
    }
   ],
   "source": [
    "df_prophet_train.count()"
   ]
  },
  {
   "cell_type": "code",
   "execution_count": 33,
   "metadata": {},
   "outputs": [],
   "source": [
    "# It takes me 45 min to train a model  over 5 years !"
   ]
  },
  {
   "cell_type": "code",
   "execution_count": 34,
   "metadata": {},
   "outputs": [
    {
     "name": "stderr",
     "output_type": "stream",
     "text": [
      "INFO:fbprophet:Disabling yearly seasonality. Run prophet with yearly_seasonality=True to override this.\n",
      "/anaconda3/lib/python3.7/site-packages/pystan/misc.py:399: FutureWarning:\n",
      "\n",
      "Conversion of the second argument of issubdtype from `float` to `np.floating` is deprecated. In future, it will be treated as `np.float64 == np.dtype(float).type`.\n",
      "\n"
     ]
    },
    {
     "name": "stdout",
     "output_type": "stream",
     "text": [
      "This model took 0.96 seconds to train\n"
     ]
    }
   ],
   "source": [
    "start_time = time()\n",
    "model_energy.fit(df_prophet_train)\n",
    "end_time = time()\n",
    "print (\"This model took %.2f seconds to train\" % (end_time - start_time))"
   ]
  },
  {
   "cell_type": "code",
   "execution_count": 35,
   "metadata": {},
   "outputs": [],
   "source": [
    "future_ile_de_france_energy_date_2019 = model_energy.make_future_dataframe(periods=3*24,freq='H', include_history = False)\n"
   ]
  },
  {
   "cell_type": "code",
   "execution_count": 36,
   "metadata": {},
   "outputs": [
    {
     "data": {
      "text/html": [
       "<div>\n",
       "<style scoped>\n",
       "    .dataframe tbody tr th:only-of-type {\n",
       "        vertical-align: middle;\n",
       "    }\n",
       "\n",
       "    .dataframe tbody tr th {\n",
       "        vertical-align: top;\n",
       "    }\n",
       "\n",
       "    .dataframe thead th {\n",
       "        text-align: right;\n",
       "    }\n",
       "</style>\n",
       "<table border=\"1\" class=\"dataframe\">\n",
       "  <thead>\n",
       "    <tr style=\"text-align: right;\">\n",
       "      <th></th>\n",
       "      <th>ds</th>\n",
       "    </tr>\n",
       "  </thead>\n",
       "  <tbody>\n",
       "    <tr>\n",
       "      <td>0</td>\n",
       "      <td>2019-01-01 00:00:00</td>\n",
       "    </tr>\n",
       "    <tr>\n",
       "      <td>1</td>\n",
       "      <td>2019-01-01 01:00:00</td>\n",
       "    </tr>\n",
       "    <tr>\n",
       "      <td>2</td>\n",
       "      <td>2019-01-01 02:00:00</td>\n",
       "    </tr>\n",
       "    <tr>\n",
       "      <td>3</td>\n",
       "      <td>2019-01-01 03:00:00</td>\n",
       "    </tr>\n",
       "    <tr>\n",
       "      <td>4</td>\n",
       "      <td>2019-01-01 04:00:00</td>\n",
       "    </tr>\n",
       "    <tr>\n",
       "      <td>5</td>\n",
       "      <td>2019-01-01 05:00:00</td>\n",
       "    </tr>\n",
       "    <tr>\n",
       "      <td>6</td>\n",
       "      <td>2019-01-01 06:00:00</td>\n",
       "    </tr>\n",
       "    <tr>\n",
       "      <td>7</td>\n",
       "      <td>2019-01-01 07:00:00</td>\n",
       "    </tr>\n",
       "    <tr>\n",
       "      <td>8</td>\n",
       "      <td>2019-01-01 08:00:00</td>\n",
       "    </tr>\n",
       "    <tr>\n",
       "      <td>9</td>\n",
       "      <td>2019-01-01 09:00:00</td>\n",
       "    </tr>\n",
       "    <tr>\n",
       "      <td>10</td>\n",
       "      <td>2019-01-01 10:00:00</td>\n",
       "    </tr>\n",
       "    <tr>\n",
       "      <td>11</td>\n",
       "      <td>2019-01-01 11:00:00</td>\n",
       "    </tr>\n",
       "    <tr>\n",
       "      <td>12</td>\n",
       "      <td>2019-01-01 12:00:00</td>\n",
       "    </tr>\n",
       "    <tr>\n",
       "      <td>13</td>\n",
       "      <td>2019-01-01 13:00:00</td>\n",
       "    </tr>\n",
       "    <tr>\n",
       "      <td>14</td>\n",
       "      <td>2019-01-01 14:00:00</td>\n",
       "    </tr>\n",
       "    <tr>\n",
       "      <td>15</td>\n",
       "      <td>2019-01-01 15:00:00</td>\n",
       "    </tr>\n",
       "    <tr>\n",
       "      <td>16</td>\n",
       "      <td>2019-01-01 16:00:00</td>\n",
       "    </tr>\n",
       "    <tr>\n",
       "      <td>17</td>\n",
       "      <td>2019-01-01 17:00:00</td>\n",
       "    </tr>\n",
       "    <tr>\n",
       "      <td>18</td>\n",
       "      <td>2019-01-01 18:00:00</td>\n",
       "    </tr>\n",
       "    <tr>\n",
       "      <td>19</td>\n",
       "      <td>2019-01-01 19:00:00</td>\n",
       "    </tr>\n",
       "    <tr>\n",
       "      <td>20</td>\n",
       "      <td>2019-01-01 20:00:00</td>\n",
       "    </tr>\n",
       "    <tr>\n",
       "      <td>21</td>\n",
       "      <td>2019-01-01 21:00:00</td>\n",
       "    </tr>\n",
       "    <tr>\n",
       "      <td>22</td>\n",
       "      <td>2019-01-01 22:00:00</td>\n",
       "    </tr>\n",
       "    <tr>\n",
       "      <td>23</td>\n",
       "      <td>2019-01-01 23:00:00</td>\n",
       "    </tr>\n",
       "    <tr>\n",
       "      <td>24</td>\n",
       "      <td>2019-01-02 00:00:00</td>\n",
       "    </tr>\n",
       "    <tr>\n",
       "      <td>25</td>\n",
       "      <td>2019-01-02 01:00:00</td>\n",
       "    </tr>\n",
       "    <tr>\n",
       "      <td>26</td>\n",
       "      <td>2019-01-02 02:00:00</td>\n",
       "    </tr>\n",
       "    <tr>\n",
       "      <td>27</td>\n",
       "      <td>2019-01-02 03:00:00</td>\n",
       "    </tr>\n",
       "    <tr>\n",
       "      <td>28</td>\n",
       "      <td>2019-01-02 04:00:00</td>\n",
       "    </tr>\n",
       "    <tr>\n",
       "      <td>29</td>\n",
       "      <td>2019-01-02 05:00:00</td>\n",
       "    </tr>\n",
       "    <tr>\n",
       "      <td>30</td>\n",
       "      <td>2019-01-02 06:00:00</td>\n",
       "    </tr>\n",
       "    <tr>\n",
       "      <td>31</td>\n",
       "      <td>2019-01-02 07:00:00</td>\n",
       "    </tr>\n",
       "    <tr>\n",
       "      <td>32</td>\n",
       "      <td>2019-01-02 08:00:00</td>\n",
       "    </tr>\n",
       "    <tr>\n",
       "      <td>33</td>\n",
       "      <td>2019-01-02 09:00:00</td>\n",
       "    </tr>\n",
       "    <tr>\n",
       "      <td>34</td>\n",
       "      <td>2019-01-02 10:00:00</td>\n",
       "    </tr>\n",
       "    <tr>\n",
       "      <td>35</td>\n",
       "      <td>2019-01-02 11:00:00</td>\n",
       "    </tr>\n",
       "    <tr>\n",
       "      <td>36</td>\n",
       "      <td>2019-01-02 12:00:00</td>\n",
       "    </tr>\n",
       "    <tr>\n",
       "      <td>37</td>\n",
       "      <td>2019-01-02 13:00:00</td>\n",
       "    </tr>\n",
       "    <tr>\n",
       "      <td>38</td>\n",
       "      <td>2019-01-02 14:00:00</td>\n",
       "    </tr>\n",
       "    <tr>\n",
       "      <td>39</td>\n",
       "      <td>2019-01-02 15:00:00</td>\n",
       "    </tr>\n",
       "    <tr>\n",
       "      <td>40</td>\n",
       "      <td>2019-01-02 16:00:00</td>\n",
       "    </tr>\n",
       "    <tr>\n",
       "      <td>41</td>\n",
       "      <td>2019-01-02 17:00:00</td>\n",
       "    </tr>\n",
       "    <tr>\n",
       "      <td>42</td>\n",
       "      <td>2019-01-02 18:00:00</td>\n",
       "    </tr>\n",
       "    <tr>\n",
       "      <td>43</td>\n",
       "      <td>2019-01-02 19:00:00</td>\n",
       "    </tr>\n",
       "    <tr>\n",
       "      <td>44</td>\n",
       "      <td>2019-01-02 20:00:00</td>\n",
       "    </tr>\n",
       "    <tr>\n",
       "      <td>45</td>\n",
       "      <td>2019-01-02 21:00:00</td>\n",
       "    </tr>\n",
       "    <tr>\n",
       "      <td>46</td>\n",
       "      <td>2019-01-02 22:00:00</td>\n",
       "    </tr>\n",
       "    <tr>\n",
       "      <td>47</td>\n",
       "      <td>2019-01-02 23:00:00</td>\n",
       "    </tr>\n",
       "    <tr>\n",
       "      <td>48</td>\n",
       "      <td>2019-01-03 00:00:00</td>\n",
       "    </tr>\n",
       "    <tr>\n",
       "      <td>49</td>\n",
       "      <td>2019-01-03 01:00:00</td>\n",
       "    </tr>\n",
       "    <tr>\n",
       "      <td>50</td>\n",
       "      <td>2019-01-03 02:00:00</td>\n",
       "    </tr>\n",
       "    <tr>\n",
       "      <td>51</td>\n",
       "      <td>2019-01-03 03:00:00</td>\n",
       "    </tr>\n",
       "    <tr>\n",
       "      <td>52</td>\n",
       "      <td>2019-01-03 04:00:00</td>\n",
       "    </tr>\n",
       "    <tr>\n",
       "      <td>53</td>\n",
       "      <td>2019-01-03 05:00:00</td>\n",
       "    </tr>\n",
       "    <tr>\n",
       "      <td>54</td>\n",
       "      <td>2019-01-03 06:00:00</td>\n",
       "    </tr>\n",
       "    <tr>\n",
       "      <td>55</td>\n",
       "      <td>2019-01-03 07:00:00</td>\n",
       "    </tr>\n",
       "    <tr>\n",
       "      <td>56</td>\n",
       "      <td>2019-01-03 08:00:00</td>\n",
       "    </tr>\n",
       "    <tr>\n",
       "      <td>57</td>\n",
       "      <td>2019-01-03 09:00:00</td>\n",
       "    </tr>\n",
       "    <tr>\n",
       "      <td>58</td>\n",
       "      <td>2019-01-03 10:00:00</td>\n",
       "    </tr>\n",
       "    <tr>\n",
       "      <td>59</td>\n",
       "      <td>2019-01-03 11:00:00</td>\n",
       "    </tr>\n",
       "    <tr>\n",
       "      <td>60</td>\n",
       "      <td>2019-01-03 12:00:00</td>\n",
       "    </tr>\n",
       "    <tr>\n",
       "      <td>61</td>\n",
       "      <td>2019-01-03 13:00:00</td>\n",
       "    </tr>\n",
       "    <tr>\n",
       "      <td>62</td>\n",
       "      <td>2019-01-03 14:00:00</td>\n",
       "    </tr>\n",
       "    <tr>\n",
       "      <td>63</td>\n",
       "      <td>2019-01-03 15:00:00</td>\n",
       "    </tr>\n",
       "    <tr>\n",
       "      <td>64</td>\n",
       "      <td>2019-01-03 16:00:00</td>\n",
       "    </tr>\n",
       "    <tr>\n",
       "      <td>65</td>\n",
       "      <td>2019-01-03 17:00:00</td>\n",
       "    </tr>\n",
       "    <tr>\n",
       "      <td>66</td>\n",
       "      <td>2019-01-03 18:00:00</td>\n",
       "    </tr>\n",
       "    <tr>\n",
       "      <td>67</td>\n",
       "      <td>2019-01-03 19:00:00</td>\n",
       "    </tr>\n",
       "    <tr>\n",
       "      <td>68</td>\n",
       "      <td>2019-01-03 20:00:00</td>\n",
       "    </tr>\n",
       "    <tr>\n",
       "      <td>69</td>\n",
       "      <td>2019-01-03 21:00:00</td>\n",
       "    </tr>\n",
       "    <tr>\n",
       "      <td>70</td>\n",
       "      <td>2019-01-03 22:00:00</td>\n",
       "    </tr>\n",
       "    <tr>\n",
       "      <td>71</td>\n",
       "      <td>2019-01-03 23:00:00</td>\n",
       "    </tr>\n",
       "  </tbody>\n",
       "</table>\n",
       "</div>"
      ],
      "text/plain": [
       "                    ds\n",
       "0  2019-01-01 00:00:00\n",
       "1  2019-01-01 01:00:00\n",
       "2  2019-01-01 02:00:00\n",
       "3  2019-01-01 03:00:00\n",
       "4  2019-01-01 04:00:00\n",
       "5  2019-01-01 05:00:00\n",
       "6  2019-01-01 06:00:00\n",
       "7  2019-01-01 07:00:00\n",
       "8  2019-01-01 08:00:00\n",
       "9  2019-01-01 09:00:00\n",
       "10 2019-01-01 10:00:00\n",
       "11 2019-01-01 11:00:00\n",
       "12 2019-01-01 12:00:00\n",
       "13 2019-01-01 13:00:00\n",
       "14 2019-01-01 14:00:00\n",
       "15 2019-01-01 15:00:00\n",
       "16 2019-01-01 16:00:00\n",
       "17 2019-01-01 17:00:00\n",
       "18 2019-01-01 18:00:00\n",
       "19 2019-01-01 19:00:00\n",
       "20 2019-01-01 20:00:00\n",
       "21 2019-01-01 21:00:00\n",
       "22 2019-01-01 22:00:00\n",
       "23 2019-01-01 23:00:00\n",
       "24 2019-01-02 00:00:00\n",
       "25 2019-01-02 01:00:00\n",
       "26 2019-01-02 02:00:00\n",
       "27 2019-01-02 03:00:00\n",
       "28 2019-01-02 04:00:00\n",
       "29 2019-01-02 05:00:00\n",
       "30 2019-01-02 06:00:00\n",
       "31 2019-01-02 07:00:00\n",
       "32 2019-01-02 08:00:00\n",
       "33 2019-01-02 09:00:00\n",
       "34 2019-01-02 10:00:00\n",
       "35 2019-01-02 11:00:00\n",
       "36 2019-01-02 12:00:00\n",
       "37 2019-01-02 13:00:00\n",
       "38 2019-01-02 14:00:00\n",
       "39 2019-01-02 15:00:00\n",
       "40 2019-01-02 16:00:00\n",
       "41 2019-01-02 17:00:00\n",
       "42 2019-01-02 18:00:00\n",
       "43 2019-01-02 19:00:00\n",
       "44 2019-01-02 20:00:00\n",
       "45 2019-01-02 21:00:00\n",
       "46 2019-01-02 22:00:00\n",
       "47 2019-01-02 23:00:00\n",
       "48 2019-01-03 00:00:00\n",
       "49 2019-01-03 01:00:00\n",
       "50 2019-01-03 02:00:00\n",
       "51 2019-01-03 03:00:00\n",
       "52 2019-01-03 04:00:00\n",
       "53 2019-01-03 05:00:00\n",
       "54 2019-01-03 06:00:00\n",
       "55 2019-01-03 07:00:00\n",
       "56 2019-01-03 08:00:00\n",
       "57 2019-01-03 09:00:00\n",
       "58 2019-01-03 10:00:00\n",
       "59 2019-01-03 11:00:00\n",
       "60 2019-01-03 12:00:00\n",
       "61 2019-01-03 13:00:00\n",
       "62 2019-01-03 14:00:00\n",
       "63 2019-01-03 15:00:00\n",
       "64 2019-01-03 16:00:00\n",
       "65 2019-01-03 17:00:00\n",
       "66 2019-01-03 18:00:00\n",
       "67 2019-01-03 19:00:00\n",
       "68 2019-01-03 20:00:00\n",
       "69 2019-01-03 21:00:00\n",
       "70 2019-01-03 22:00:00\n",
       "71 2019-01-03 23:00:00"
      ]
     },
     "execution_count": 36,
     "metadata": {},
     "output_type": "execute_result"
    }
   ],
   "source": [
    "future_ile_de_france_energy_date_2019.head(100)"
   ]
  },
  {
   "cell_type": "code",
   "execution_count": 37,
   "metadata": {},
   "outputs": [
    {
     "name": "stdout",
     "output_type": "stream",
     "text": [
      "This took 2.92 seconds\n"
     ]
    }
   ],
   "source": [
    "start_time = time()\n",
    "future_energy_forcast_ile_de_france_2019 = model_energy.predict(future_ile_de_france_energy_date_2019)\n",
    "end_time = time()\n",
    "print (\"This took %.2f seconds\" % (end_time - start_time))"
   ]
  },
  {
   "cell_type": "code",
   "execution_count": 38,
   "metadata": {},
   "outputs": [
    {
     "data": {
      "text/plain": [
       "ds            72\n",
       "yhat          72\n",
       "yhat_lower    72\n",
       "yhat_upper    72\n",
       "dtype: int64"
      ]
     },
     "execution_count": 38,
     "metadata": {},
     "output_type": "execute_result"
    }
   ],
   "source": [
    "future_energy_forcast_ile_de_france_2019[['ds', 'yhat', 'yhat_lower', 'yhat_upper']].count()"
   ]
  },
  {
   "cell_type": "markdown",
   "metadata": {},
   "source": [
    "df_region_per_day_ile_de_france_2017_2018.head()"
   ]
  },
  {
   "cell_type": "code",
   "execution_count": 39,
   "metadata": {},
   "outputs": [],
   "source": [
    "future_energy_forcast_ile_de_france_2019_plot= future_energy_forcast_ile_de_france_2019"
   ]
  },
  {
   "cell_type": "code",
   "execution_count": 40,
   "metadata": {},
   "outputs": [],
   "source": [
    "df_region_per_hour_ile_de_france_plot=df_region_per_hour_ile_de_france_small"
   ]
  },
  {
   "cell_type": "code",
   "execution_count": 41,
   "metadata": {},
   "outputs": [],
   "source": [
    "import matplotlib"
   ]
  },
  {
   "cell_type": "code",
   "execution_count": 51,
   "metadata": {
    "scrolled": true
   },
   "outputs": [
    {
     "data": {
      "text/plain": [
       "<matplotlib.legend.Legend at 0x1a23122048>"
      ]
     },
     "execution_count": 51,
     "metadata": {},
     "output_type": "execute_result"
    },
    {
     "data": {
      "image/png": "[encoded data removed]",
      "text/plain": [
       "<Figure size 720x360 with 1 Axes>"
      ]
     },
     "metadata": {
      "needs_background": "light"
     },
     "output_type": "display_data"
    }
   ],
   "source": [
    "matplotlib.rcParams.update({'font.size': 15})\n",
    "plt.figure(figsize=(10,5),linewidth=2)\n",
    "plt.plot(df_region_per_hour_ile_de_france_plot[-600:-258].date,df_region_per_hour_ile_de_france_plot[-600:-258]['Consommation (MW)'],color='steelblue',label='observation',linewidth=2.0)\n",
    "plt.plot(future_energy_forcast_ile_de_france_2019_plot.ds.dt.to_pydatetime(),future_energy_forcast_ile_de_france_2019_plot.yhat,color='g',label='forecasting',linewidth=2.0)\n",
    "\n",
    "plt.fill_between(future_energy_forcast_ile_de_france_2019_plot.ds.dt.to_pydatetime(), future_energy_forcast_ile_de_france_2019_plot['yhat_lower'], future_energy_forcast_ile_de_france_2019_plot['yhat_upper'],\n",
    "                        color='green', alpha=0.2,label='90% confidence interval' )\n",
    "plt.title('Prophet: Prediction for Ile de France with' + \" MAPE : {}%\".format(str(round(100*0.17788634, 1))))\n",
    "plt.grid(which='both')\n",
    "plt.ylim([12000, 28000])\n",
    "\n",
    "plt.ylabel(\"consumption (MW)\")\n",
    "plt.rc('xtick', labelsize=10)  \n",
    "plt.rc('ytick', labelsize=10)# fontsize of the axes title\n",
    "plt.rc('axes', titlesize=15)\n",
    "plt.rc('axes', labelsize=10)\n",
    "plt.rc('legend', fontsize=10)\n",
    "plt.margins(0)\n",
    "plt.legend()\n"
   ]
  },
  {
   "cell_type": "code",
   "execution_count": null,
   "metadata": {},
   "outputs": [],
   "source": []
  },
  {
   "cell_type": "code",
   "execution_count": 52,
   "metadata": {},
   "outputs": [],
   "source": [
    "y_true = df_region_per_hour_ile_de_france_small[(df_region_per_hour_ile_de_france_small['date_time'] >= '2019-01-01')&(df_region_per_hour_ile_de_france_small['date_time'] < '2019-01-04')]['Consommation (MW)']\n"
   ]
  },
  {
   "cell_type": "code",
   "execution_count": 53,
   "metadata": {},
   "outputs": [
    {
     "data": {
      "text/plain": [
       "72"
      ]
     },
     "execution_count": 53,
     "metadata": {},
     "output_type": "execute_result"
    }
   ],
   "source": [
    "y_true.count()"
   ]
  },
  {
   "cell_type": "code",
   "execution_count": 54,
   "metadata": {},
   "outputs": [],
   "source": [
    "y_pred = future_energy_forcast_ile_de_france_2019['yhat']"
   ]
  },
  {
   "cell_type": "code",
   "execution_count": 55,
   "metadata": {},
   "outputs": [
    {
     "data": {
      "text/plain": [
       "72"
      ]
     },
     "execution_count": 55,
     "metadata": {},
     "output_type": "execute_result"
    }
   ],
   "source": [
    "y_pred.count()"
   ]
  },
  {
   "cell_type": "code",
   "execution_count": 56,
   "metadata": {},
   "outputs": [
    {
     "data": {
      "text/plain": [
       "17.788634740897177"
      ]
     },
     "execution_count": 56,
     "metadata": {},
     "output_type": "execute_result"
    }
   ],
   "source": [
    "mean_absolute_percentage_error(y_true, y_pred)"
   ]
  },
  {
   "cell_type": "code",
   "execution_count": null,
   "metadata": {},
   "outputs": [],
   "source": []
  }
 ],
 "metadata": {
  "kernelspec": {
   "display_name": "Python 3",
   "language": "python",
   "name": "python3"
  },
  "language_info": {
   "codemirror_mode": {
    "name": "ipython",
    "version": 3
   },
   "file_extension": ".py",
   "mimetype": "text/x-python",
   "name": "python",
   "nbconvert_exporter": "python",
   "pygments_lexer": "ipython3",
   "version": "3.7.1"
  }
 },
 "nbformat": 4,
 "nbformat_minor": 2
}
