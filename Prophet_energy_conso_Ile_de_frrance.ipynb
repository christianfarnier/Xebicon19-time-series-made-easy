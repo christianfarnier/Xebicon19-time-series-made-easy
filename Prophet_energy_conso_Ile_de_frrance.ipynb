{
 "cells": [
  {
   "cell_type": "code",
   "execution_count": 1,
   "metadata": {},
   "outputs": [],
   "source": [
    "import pandas as pd\n",
    "from fbprophet import Prophet"
   ]
  },
  {
   "cell_type": "code",
   "execution_count": 2,
   "metadata": {},
   "outputs": [],
   "source": [
    "%matplotlib inline\n",
    "from fbprophet import Prophet\n",
    "import pandas as pd\n",
    "from matplotlib import pyplot as plt\n",
    "import numpy as np\n",
    "from datetime import datetime, timedelta\n",
    "pd.set_option('display.max_rows', 500)\n",
    "pd.set_option('display.max_columns', 500)\n",
    "pd.set_option('display.width', 1000)\n",
    "from pytz import timezone as tz"
   ]
  },
  {
   "cell_type": "code",
   "execution_count": 3,
   "metadata": {},
   "outputs": [],
   "source": [
    "from time import time\n",
    "from datetime import date\n",
    "from datetime import datetime"
   ]
  },
  {
   "cell_type": "code",
   "execution_count": 4,
   "metadata": {},
   "outputs": [],
   "source": [
    "# Measure performance:\n",
    "\n",
    "def mean_absolute_percentage_error(y_true, y_pred): \n",
    "    y_true, y_pred = np.array(y_true), np.array(y_pred)\n",
    "    return np.mean(np.abs((y_true - y_pred) / y_true)) * 100"
   ]
  },
  {
   "cell_type": "code",
   "execution_count": 5,
   "metadata": {},
   "outputs": [],
   "source": [
    "df_energy = pd.read_csv('../data/'+ \"eco2mix-regional-cons-def.csv\", sep=\";\",\n",
    "                parse_dates=[\"Date - Heure\"]).sort_values(by=[\"Région\", \"Date - Heure\"])"
   ]
  },
  {
   "cell_type": "code",
   "execution_count": 6,
   "metadata": {},
   "outputs": [],
   "source": [
    "df_energy = df_energy[[\"Région\", \"Date - Heure\", \"Consommation (MW)\"]]"
   ]
  },
  {
   "cell_type": "code",
   "execution_count": 7,
   "metadata": {},
   "outputs": [],
   "source": [
    "df_energy.fillna(df_energy.dropna()[\"Consommation (MW)\"].mean(), inplace=True)"
   ]
  },
  {
   "cell_type": "code",
   "execution_count": 8,
   "metadata": {},
   "outputs": [
    {
     "data": {
      "text/plain": [
       "Région               0\n",
       "Date - Heure         0\n",
       "Consommation (MW)    0\n",
       "dtype: int64"
      ]
     },
     "execution_count": 8,
     "metadata": {},
     "output_type": "execute_result"
    }
   ],
   "source": [
    "df_energy.isnull().sum()"
   ]
  },
  {
   "cell_type": "code",
   "execution_count": 9,
   "metadata": {},
   "outputs": [
    {
     "data": {
      "text/plain": [
       "Région                object\n",
       "Date - Heure          object\n",
       "Consommation (MW)    float64\n",
       "dtype: object"
      ]
     },
     "execution_count": 9,
     "metadata": {},
     "output_type": "execute_result"
    }
   ],
   "source": [
    "df_energy.dtypes"
   ]
  },
  {
   "cell_type": "code",
   "execution_count": 10,
   "metadata": {},
   "outputs": [
    {
     "data": {
      "text/html": [
       "<div>\n",
       "<style scoped>\n",
       "    .dataframe tbody tr th:only-of-type {\n",
       "        vertical-align: middle;\n",
       "    }\n",
       "\n",
       "    .dataframe tbody tr th {\n",
       "        vertical-align: top;\n",
       "    }\n",
       "\n",
       "    .dataframe thead th {\n",
       "        text-align: right;\n",
       "    }\n",
       "</style>\n",
       "<table border=\"1\" class=\"dataframe\">\n",
       "  <thead>\n",
       "    <tr style=\"text-align: right;\">\n",
       "      <th></th>\n",
       "      <th>Région</th>\n",
       "      <th>Date - Heure</th>\n",
       "      <th>Consommation (MW)</th>\n",
       "      <th>date</th>\n",
       "    </tr>\n",
       "  </thead>\n",
       "  <tbody>\n",
       "    <tr>\n",
       "      <td>147167</td>\n",
       "      <td>Auvergne-Rhône-Alpes</td>\n",
       "      <td>2013-01-01 00:00:00+01:00</td>\n",
       "      <td>4528.493194</td>\n",
       "      <td>2013-01-01 00:00:00</td>\n",
       "    </tr>\n",
       "    <tr>\n",
       "      <td>147170</td>\n",
       "      <td>Auvergne-Rhône-Alpes</td>\n",
       "      <td>2013-01-01 00:30:00+01:00</td>\n",
       "      <td>8173.000000</td>\n",
       "      <td>2013-01-01 01:00:00</td>\n",
       "    </tr>\n",
       "    <tr>\n",
       "      <td>1017843</td>\n",
       "      <td>Auvergne-Rhône-Alpes</td>\n",
       "      <td>2013-01-01 01:00:00+01:00</td>\n",
       "      <td>7944.000000</td>\n",
       "      <td>2013-01-01 01:00:00</td>\n",
       "    </tr>\n",
       "  </tbody>\n",
       "</table>\n",
       "</div>"
      ],
      "text/plain": [
       "                       Région               Date - Heure  Consommation (MW)                date\n",
       "147167   Auvergne-Rhône-Alpes  2013-01-01 00:00:00+01:00        4528.493194 2013-01-01 00:00:00\n",
       "147170   Auvergne-Rhône-Alpes  2013-01-01 00:30:00+01:00        8173.000000 2013-01-01 01:00:00\n",
       "1017843  Auvergne-Rhône-Alpes  2013-01-01 01:00:00+01:00        7944.000000 2013-01-01 01:00:00"
      ]
     },
     "execution_count": 10,
     "metadata": {},
     "output_type": "execute_result"
    }
   ],
   "source": [
    "df_energy.fillna(df_energy.dropna()[\"Consommation (MW)\"].mean(), inplace=True)\n",
    "df_energy[\"date\"] = df_energy[\"Date - Heure\"].apply(lambda x: x + timedelta(minutes=x.minute))\n",
    "df_energy[\"date\"] = df_energy[\"date\"].apply(lambda x: x.astimezone(tz(\"UTC\")))\n",
    "df_energy[\"date\"] = df_energy[\"date\"].apply(lambda x: x.fromtimestamp(x.timestamp()))\n",
    "df_energy.head(3)"
   ]
  },
  {
   "cell_type": "code",
   "execution_count": 11,
   "metadata": {},
   "outputs": [
    {
     "data": {
      "text/html": [
       "<div>\n",
       "<style scoped>\n",
       "    .dataframe tbody tr th:only-of-type {\n",
       "        vertical-align: middle;\n",
       "    }\n",
       "\n",
       "    .dataframe tbody tr th {\n",
       "        vertical-align: top;\n",
       "    }\n",
       "\n",
       "    .dataframe thead th {\n",
       "        text-align: right;\n",
       "    }\n",
       "</style>\n",
       "<table border=\"1\" class=\"dataframe\">\n",
       "  <thead>\n",
       "    <tr style=\"text-align: right;\">\n",
       "      <th></th>\n",
       "      <th>Région</th>\n",
       "      <th>Date - Heure</th>\n",
       "      <th>Consommation (MW)</th>\n",
       "      <th>date</th>\n",
       "    </tr>\n",
       "  </thead>\n",
       "  <tbody>\n",
       "    <tr>\n",
       "      <td>147167</td>\n",
       "      <td>Auvergne-Rhône-Alpes</td>\n",
       "      <td>2013-01-01 00:00:00+01:00</td>\n",
       "      <td>4528.493194</td>\n",
       "      <td>2013-01-01 00:00:00</td>\n",
       "    </tr>\n",
       "    <tr>\n",
       "      <td>147170</td>\n",
       "      <td>Auvergne-Rhône-Alpes</td>\n",
       "      <td>2013-01-01 00:30:00+01:00</td>\n",
       "      <td>8173.000000</td>\n",
       "      <td>2013-01-01 01:00:00</td>\n",
       "    </tr>\n",
       "    <tr>\n",
       "      <td>1017843</td>\n",
       "      <td>Auvergne-Rhône-Alpes</td>\n",
       "      <td>2013-01-01 01:00:00+01:00</td>\n",
       "      <td>7944.000000</td>\n",
       "      <td>2013-01-01 01:00:00</td>\n",
       "    </tr>\n",
       "    <tr>\n",
       "      <td>147173</td>\n",
       "      <td>Auvergne-Rhône-Alpes</td>\n",
       "      <td>2013-01-01 01:30:00+01:00</td>\n",
       "      <td>7896.000000</td>\n",
       "      <td>2013-01-01 02:00:00</td>\n",
       "    </tr>\n",
       "    <tr>\n",
       "      <td>1017845</td>\n",
       "      <td>Auvergne-Rhône-Alpes</td>\n",
       "      <td>2013-01-01 02:00:00+01:00</td>\n",
       "      <td>7882.000000</td>\n",
       "      <td>2013-01-01 02:00:00</td>\n",
       "    </tr>\n",
       "  </tbody>\n",
       "</table>\n",
       "</div>"
      ],
      "text/plain": [
       "                       Région               Date - Heure  Consommation (MW)                date\n",
       "147167   Auvergne-Rhône-Alpes  2013-01-01 00:00:00+01:00        4528.493194 2013-01-01 00:00:00\n",
       "147170   Auvergne-Rhône-Alpes  2013-01-01 00:30:00+01:00        8173.000000 2013-01-01 01:00:00\n",
       "1017843  Auvergne-Rhône-Alpes  2013-01-01 01:00:00+01:00        7944.000000 2013-01-01 01:00:00\n",
       "147173   Auvergne-Rhône-Alpes  2013-01-01 01:30:00+01:00        7896.000000 2013-01-01 02:00:00\n",
       "1017845  Auvergne-Rhône-Alpes  2013-01-01 02:00:00+01:00        7882.000000 2013-01-01 02:00:00"
      ]
     },
     "execution_count": 11,
     "metadata": {},
     "output_type": "execute_result"
    }
   ],
   "source": [
    "df_energy.head()"
   ]
  },
  {
   "cell_type": "code",
   "execution_count": 12,
   "metadata": {},
   "outputs": [],
   "source": [
    "# group by day:\n",
    "df_region_per_hour = df_energy.groupby([\"Région\", \"date\"], as_index=False).agg({\"Consommation (MW)\": np.sum})"
   ]
  },
  {
   "cell_type": "code",
   "execution_count": 13,
   "metadata": {},
   "outputs": [
    {
     "data": {
      "text/html": [
       "<div>\n",
       "<style scoped>\n",
       "    .dataframe tbody tr th:only-of-type {\n",
       "        vertical-align: middle;\n",
       "    }\n",
       "\n",
       "    .dataframe tbody tr th {\n",
       "        vertical-align: top;\n",
       "    }\n",
       "\n",
       "    .dataframe thead th {\n",
       "        text-align: right;\n",
       "    }\n",
       "</style>\n",
       "<table border=\"1\" class=\"dataframe\">\n",
       "  <thead>\n",
       "    <tr style=\"text-align: right;\">\n",
       "      <th></th>\n",
       "      <th>Région</th>\n",
       "      <th>date</th>\n",
       "      <th>Consommation (MW)</th>\n",
       "    </tr>\n",
       "  </thead>\n",
       "  <tbody>\n",
       "    <tr>\n",
       "      <td>0</td>\n",
       "      <td>Auvergne-Rhône-Alpes</td>\n",
       "      <td>2013-01-01 00:00:00</td>\n",
       "      <td>4528.493194</td>\n",
       "    </tr>\n",
       "    <tr>\n",
       "      <td>1</td>\n",
       "      <td>Auvergne-Rhône-Alpes</td>\n",
       "      <td>2013-01-01 01:00:00</td>\n",
       "      <td>16117.000000</td>\n",
       "    </tr>\n",
       "    <tr>\n",
       "      <td>2</td>\n",
       "      <td>Auvergne-Rhône-Alpes</td>\n",
       "      <td>2013-01-01 02:00:00</td>\n",
       "      <td>15778.000000</td>\n",
       "    </tr>\n",
       "    <tr>\n",
       "      <td>3</td>\n",
       "      <td>Auvergne-Rhône-Alpes</td>\n",
       "      <td>2013-01-01 03:00:00</td>\n",
       "      <td>15618.000000</td>\n",
       "    </tr>\n",
       "    <tr>\n",
       "      <td>4</td>\n",
       "      <td>Auvergne-Rhône-Alpes</td>\n",
       "      <td>2013-01-01 04:00:00</td>\n",
       "      <td>14944.000000</td>\n",
       "    </tr>\n",
       "  </tbody>\n",
       "</table>\n",
       "</div>"
      ],
      "text/plain": [
       "                 Région                date  Consommation (MW)\n",
       "0  Auvergne-Rhône-Alpes 2013-01-01 00:00:00        4528.493194\n",
       "1  Auvergne-Rhône-Alpes 2013-01-01 01:00:00       16117.000000\n",
       "2  Auvergne-Rhône-Alpes 2013-01-01 02:00:00       15778.000000\n",
       "3  Auvergne-Rhône-Alpes 2013-01-01 03:00:00       15618.000000\n",
       "4  Auvergne-Rhône-Alpes 2013-01-01 04:00:00       14944.000000"
      ]
     },
     "execution_count": 13,
     "metadata": {},
     "output_type": "execute_result"
    }
   ],
   "source": [
    "df_region_per_hour.head()"
   ]
  },
  {
   "cell_type": "code",
   "execution_count": 14,
   "metadata": {},
   "outputs": [
    {
     "data": {
      "text/plain": [
       "Région                       object\n",
       "date                 datetime64[ns]\n",
       "Consommation (MW)           float64\n",
       "dtype: object"
      ]
     },
     "execution_count": 14,
     "metadata": {},
     "output_type": "execute_result"
    }
   ],
   "source": [
    "df_region_per_hour.dtypes"
   ]
  },
  {
   "cell_type": "markdown",
   "metadata": {},
   "source": [
    "# Filter on Ile de France"
   ]
  },
  {
   "cell_type": "code",
   "execution_count": 15,
   "metadata": {},
   "outputs": [],
   "source": [
    "df_region_per_hour_ile_de_france = df_region_per_hour[df_region_per_hour['Région']=='Ile-de-France']"
   ]
  },
  {
   "cell_type": "code",
   "execution_count": 16,
   "metadata": {},
   "outputs": [
    {
     "data": {
      "text/plain": [
       "[<matplotlib.lines.Line2D at 0x1a2d51fdd8>]"
      ]
     },
     "execution_count": 16,
     "metadata": {},
     "output_type": "execute_result"
    },
    {
     "data": {
      "image/png": "[encoded data removed]",
      "text/plain": [
       "<Figure size 720x360 with 1 Axes>"
      ]
     },
     "metadata": {
      "needs_background": "light"
     },
     "output_type": "display_data"
    }
   ],
   "source": [
    "plt.figure(figsize=(10,5))\n",
    "plt.plot(df_region_per_hour_ile_de_france[\"date\"], df_region_per_hour_ile_de_france[\"Consommation (MW)\"])"
   ]
  },
  {
   "cell_type": "code",
   "execution_count": 17,
   "metadata": {},
   "outputs": [],
   "source": [
    "#restraindre la durée"
   ]
  },
  {
   "cell_type": "code",
   "execution_count": 18,
   "metadata": {},
   "outputs": [],
   "source": [
    "df_region_per_hour_ile_de_france_small = df_region_per_hour_ile_de_france[(df_region_per_hour_ile_de_france['date']>='2017-01-01 00:00:00')&(df_region_per_hour_ile_de_france['date']<'2019-01-15 00:00:00')]\n",
    "\n",
    "\n"
   ]
  },
  {
   "cell_type": "code",
   "execution_count": 19,
   "metadata": {},
   "outputs": [],
   "source": [
    "df_region_per_hour_ile_de_france_small.to_csv('../data/ile_de_france_dataset.csv')"
   ]
  },
  {
   "cell_type": "markdown",
   "metadata": {},
   "source": [
    "# Prophet for forcasting Ile de France energy"
   ]
  },
  {
   "cell_type": "code",
   "execution_count": 20,
   "metadata": {},
   "outputs": [
    {
     "data": {
      "text/plain": [
       "Région                       object\n",
       "date                 datetime64[ns]\n",
       "Consommation (MW)           float64\n",
       "dtype: object"
      ]
     },
     "execution_count": 20,
     "metadata": {},
     "output_type": "execute_result"
    }
   ],
   "source": [
    "df_region_per_hour_ile_de_france_small.dtypes"
   ]
  },
  {
   "cell_type": "code",
   "execution_count": 21,
   "metadata": {},
   "outputs": [
    {
     "data": {
      "text/html": [
       "<div>\n",
       "<style scoped>\n",
       "    .dataframe tbody tr th:only-of-type {\n",
       "        vertical-align: middle;\n",
       "    }\n",
       "\n",
       "    .dataframe tbody tr th {\n",
       "        vertical-align: top;\n",
       "    }\n",
       "\n",
       "    .dataframe thead th {\n",
       "        text-align: right;\n",
       "    }\n",
       "</style>\n",
       "<table border=\"1\" class=\"dataframe\">\n",
       "  <thead>\n",
       "    <tr style=\"text-align: right;\">\n",
       "      <th></th>\n",
       "      <th>Région</th>\n",
       "      <th>date</th>\n",
       "      <th>Consommation (MW)</th>\n",
       "    </tr>\n",
       "  </thead>\n",
       "  <tbody>\n",
       "    <tr>\n",
       "      <td>385520</td>\n",
       "      <td>Ile-de-France</td>\n",
       "      <td>2017-01-01 00:00:00</td>\n",
       "      <td>24147.0</td>\n",
       "    </tr>\n",
       "    <tr>\n",
       "      <td>385521</td>\n",
       "      <td>Ile-de-France</td>\n",
       "      <td>2017-01-01 01:00:00</td>\n",
       "      <td>23337.0</td>\n",
       "    </tr>\n",
       "    <tr>\n",
       "      <td>385522</td>\n",
       "      <td>Ile-de-France</td>\n",
       "      <td>2017-01-01 02:00:00</td>\n",
       "      <td>22179.0</td>\n",
       "    </tr>\n",
       "    <tr>\n",
       "      <td>385523</td>\n",
       "      <td>Ile-de-France</td>\n",
       "      <td>2017-01-01 03:00:00</td>\n",
       "      <td>21433.0</td>\n",
       "    </tr>\n",
       "    <tr>\n",
       "      <td>385524</td>\n",
       "      <td>Ile-de-France</td>\n",
       "      <td>2017-01-01 04:00:00</td>\n",
       "      <td>20597.0</td>\n",
       "    </tr>\n",
       "  </tbody>\n",
       "</table>\n",
       "</div>"
      ],
      "text/plain": [
       "               Région                date  Consommation (MW)\n",
       "385520  Ile-de-France 2017-01-01 00:00:00            24147.0\n",
       "385521  Ile-de-France 2017-01-01 01:00:00            23337.0\n",
       "385522  Ile-de-France 2017-01-01 02:00:00            22179.0\n",
       "385523  Ile-de-France 2017-01-01 03:00:00            21433.0\n",
       "385524  Ile-de-France 2017-01-01 04:00:00            20597.0"
      ]
     },
     "execution_count": 21,
     "metadata": {},
     "output_type": "execute_result"
    }
   ],
   "source": [
    "df_region_per_hour_ile_de_france_small.head()"
   ]
  },
  {
   "cell_type": "code",
   "execution_count": 22,
   "metadata": {},
   "outputs": [
    {
     "name": "stderr",
     "output_type": "stream",
     "text": [
      "/anaconda3/lib/python3.7/site-packages/ipykernel_launcher.py:1: SettingWithCopyWarning:\n",
      "\n",
      "\n",
      "A value is trying to be set on a copy of a slice from a DataFrame.\n",
      "Try using .loc[row_indexer,col_indexer] = value instead\n",
      "\n",
      "See the caveats in the documentation: http://pandas.pydata.org/pandas-docs/stable/user_guide/indexing.html#returning-a-view-versus-a-copy\n",
      "\n"
     ]
    }
   ],
   "source": [
    "df_region_per_hour_ile_de_france_small['date_time']=pd.to_datetime(df_region_per_hour_ile_de_france_small['date'], format='%Y-%m-%d')"
   ]
  },
  {
   "cell_type": "code",
   "execution_count": 23,
   "metadata": {},
   "outputs": [
    {
     "data": {
      "text/html": [
       "<div>\n",
       "<style scoped>\n",
       "    .dataframe tbody tr th:only-of-type {\n",
       "        vertical-align: middle;\n",
       "    }\n",
       "\n",
       "    .dataframe tbody tr th {\n",
       "        vertical-align: top;\n",
       "    }\n",
       "\n",
       "    .dataframe thead th {\n",
       "        text-align: right;\n",
       "    }\n",
       "</style>\n",
       "<table border=\"1\" class=\"dataframe\">\n",
       "  <thead>\n",
       "    <tr style=\"text-align: right;\">\n",
       "      <th></th>\n",
       "      <th>Région</th>\n",
       "      <th>date</th>\n",
       "      <th>Consommation (MW)</th>\n",
       "      <th>date_time</th>\n",
       "    </tr>\n",
       "  </thead>\n",
       "  <tbody>\n",
       "    <tr>\n",
       "      <td>385520</td>\n",
       "      <td>Ile-de-France</td>\n",
       "      <td>2017-01-01 00:00:00</td>\n",
       "      <td>24147.0</td>\n",
       "      <td>2017-01-01 00:00:00</td>\n",
       "    </tr>\n",
       "    <tr>\n",
       "      <td>385521</td>\n",
       "      <td>Ile-de-France</td>\n",
       "      <td>2017-01-01 01:00:00</td>\n",
       "      <td>23337.0</td>\n",
       "      <td>2017-01-01 01:00:00</td>\n",
       "    </tr>\n",
       "    <tr>\n",
       "      <td>385522</td>\n",
       "      <td>Ile-de-France</td>\n",
       "      <td>2017-01-01 02:00:00</td>\n",
       "      <td>22179.0</td>\n",
       "      <td>2017-01-01 02:00:00</td>\n",
       "    </tr>\n",
       "    <tr>\n",
       "      <td>385523</td>\n",
       "      <td>Ile-de-France</td>\n",
       "      <td>2017-01-01 03:00:00</td>\n",
       "      <td>21433.0</td>\n",
       "      <td>2017-01-01 03:00:00</td>\n",
       "    </tr>\n",
       "    <tr>\n",
       "      <td>385524</td>\n",
       "      <td>Ile-de-France</td>\n",
       "      <td>2017-01-01 04:00:00</td>\n",
       "      <td>20597.0</td>\n",
       "      <td>2017-01-01 04:00:00</td>\n",
       "    </tr>\n",
       "  </tbody>\n",
       "</table>\n",
       "</div>"
      ],
      "text/plain": [
       "               Région                date  Consommation (MW)           date_time\n",
       "385520  Ile-de-France 2017-01-01 00:00:00            24147.0 2017-01-01 00:00:00\n",
       "385521  Ile-de-France 2017-01-01 01:00:00            23337.0 2017-01-01 01:00:00\n",
       "385522  Ile-de-France 2017-01-01 02:00:00            22179.0 2017-01-01 02:00:00\n",
       "385523  Ile-de-France 2017-01-01 03:00:00            21433.0 2017-01-01 03:00:00\n",
       "385524  Ile-de-France 2017-01-01 04:00:00            20597.0 2017-01-01 04:00:00"
      ]
     },
     "execution_count": 23,
     "metadata": {},
     "output_type": "execute_result"
    }
   ],
   "source": [
    "df_region_per_hour_ile_de_france_small.head()"
   ]
  },
  {
   "cell_type": "code",
   "execution_count": 24,
   "metadata": {
    "scrolled": true
   },
   "outputs": [
    {
     "data": {
      "text/plain": [
       "Région                       object\n",
       "date                 datetime64[ns]\n",
       "Consommation (MW)           float64\n",
       "date_time            datetime64[ns]\n",
       "dtype: object"
      ]
     },
     "execution_count": 24,
     "metadata": {},
     "output_type": "execute_result"
    }
   ],
   "source": [
    "df_region_per_hour_ile_de_france_small.dtypes"
   ]
  },
  {
   "cell_type": "code",
   "execution_count": 25,
   "metadata": {},
   "outputs": [],
   "source": [
    "# Select training set:\n",
    "df_region_per_hour_ile_de_france_small_train = df_region_per_hour_ile_de_france_small[(df_region_per_hour_ile_de_france_small['date_time']<='2018-12-31 23:00:00')]\n",
    "\n"
   ]
  },
  {
   "cell_type": "code",
   "execution_count": 26,
   "metadata": {},
   "outputs": [
    {
     "data": {
      "text/html": [
       "<div>\n",
       "<style scoped>\n",
       "    .dataframe tbody tr th:only-of-type {\n",
       "        vertical-align: middle;\n",
       "    }\n",
       "\n",
       "    .dataframe tbody tr th {\n",
       "        vertical-align: top;\n",
       "    }\n",
       "\n",
       "    .dataframe thead th {\n",
       "        text-align: right;\n",
       "    }\n",
       "</style>\n",
       "<table border=\"1\" class=\"dataframe\">\n",
       "  <thead>\n",
       "    <tr style=\"text-align: right;\">\n",
       "      <th></th>\n",
       "      <th>Région</th>\n",
       "      <th>date</th>\n",
       "      <th>Consommation (MW)</th>\n",
       "      <th>date_time</th>\n",
       "    </tr>\n",
       "  </thead>\n",
       "  <tbody>\n",
       "    <tr>\n",
       "      <td>403033</td>\n",
       "      <td>Ile-de-France</td>\n",
       "      <td>2018-12-31 19:00:00</td>\n",
       "      <td>20763.0</td>\n",
       "      <td>2018-12-31 19:00:00</td>\n",
       "    </tr>\n",
       "    <tr>\n",
       "      <td>403034</td>\n",
       "      <td>Ile-de-France</td>\n",
       "      <td>2018-12-31 20:00:00</td>\n",
       "      <td>20236.0</td>\n",
       "      <td>2018-12-31 20:00:00</td>\n",
       "    </tr>\n",
       "    <tr>\n",
       "      <td>403035</td>\n",
       "      <td>Ile-de-France</td>\n",
       "      <td>2018-12-31 21:00:00</td>\n",
       "      <td>18923.0</td>\n",
       "      <td>2018-12-31 21:00:00</td>\n",
       "    </tr>\n",
       "    <tr>\n",
       "      <td>403036</td>\n",
       "      <td>Ile-de-France</td>\n",
       "      <td>2018-12-31 22:00:00</td>\n",
       "      <td>17614.0</td>\n",
       "      <td>2018-12-31 22:00:00</td>\n",
       "    </tr>\n",
       "    <tr>\n",
       "      <td>403037</td>\n",
       "      <td>Ile-de-France</td>\n",
       "      <td>2018-12-31 23:00:00</td>\n",
       "      <td>18173.0</td>\n",
       "      <td>2018-12-31 23:00:00</td>\n",
       "    </tr>\n",
       "  </tbody>\n",
       "</table>\n",
       "</div>"
      ],
      "text/plain": [
       "               Région                date  Consommation (MW)           date_time\n",
       "403033  Ile-de-France 2018-12-31 19:00:00            20763.0 2018-12-31 19:00:00\n",
       "403034  Ile-de-France 2018-12-31 20:00:00            20236.0 2018-12-31 20:00:00\n",
       "403035  Ile-de-France 2018-12-31 21:00:00            18923.0 2018-12-31 21:00:00\n",
       "403036  Ile-de-France 2018-12-31 22:00:00            17614.0 2018-12-31 22:00:00\n",
       "403037  Ile-de-France 2018-12-31 23:00:00            18173.0 2018-12-31 23:00:00"
      ]
     },
     "execution_count": 26,
     "metadata": {},
     "output_type": "execute_result"
    }
   ],
   "source": [
    "df_region_per_hour_ile_de_france_small_train.tail()"
   ]
  },
  {
   "cell_type": "code",
   "execution_count": 27,
   "metadata": {},
   "outputs": [
    {
     "data": {
      "text/html": [
       "<div>\n",
       "<style scoped>\n",
       "    .dataframe tbody tr th:only-of-type {\n",
       "        vertical-align: middle;\n",
       "    }\n",
       "\n",
       "    .dataframe tbody tr th {\n",
       "        vertical-align: top;\n",
       "    }\n",
       "\n",
       "    .dataframe thead th {\n",
       "        text-align: right;\n",
       "    }\n",
       "</style>\n",
       "<table border=\"1\" class=\"dataframe\">\n",
       "  <thead>\n",
       "    <tr style=\"text-align: right;\">\n",
       "      <th></th>\n",
       "      <th>Région</th>\n",
       "      <th>date</th>\n",
       "      <th>Consommation (MW)</th>\n",
       "      <th>date_time</th>\n",
       "    </tr>\n",
       "  </thead>\n",
       "  <tbody>\n",
       "    <tr>\n",
       "      <td>403033</td>\n",
       "      <td>Ile-de-France</td>\n",
       "      <td>2018-12-31 19:00:00</td>\n",
       "      <td>20763.0</td>\n",
       "      <td>2018-12-31 19:00:00</td>\n",
       "    </tr>\n",
       "    <tr>\n",
       "      <td>403034</td>\n",
       "      <td>Ile-de-France</td>\n",
       "      <td>2018-12-31 20:00:00</td>\n",
       "      <td>20236.0</td>\n",
       "      <td>2018-12-31 20:00:00</td>\n",
       "    </tr>\n",
       "    <tr>\n",
       "      <td>403035</td>\n",
       "      <td>Ile-de-France</td>\n",
       "      <td>2018-12-31 21:00:00</td>\n",
       "      <td>18923.0</td>\n",
       "      <td>2018-12-31 21:00:00</td>\n",
       "    </tr>\n",
       "    <tr>\n",
       "      <td>403036</td>\n",
       "      <td>Ile-de-France</td>\n",
       "      <td>2018-12-31 22:00:00</td>\n",
       "      <td>17614.0</td>\n",
       "      <td>2018-12-31 22:00:00</td>\n",
       "    </tr>\n",
       "    <tr>\n",
       "      <td>403037</td>\n",
       "      <td>Ile-de-France</td>\n",
       "      <td>2018-12-31 23:00:00</td>\n",
       "      <td>18173.0</td>\n",
       "      <td>2018-12-31 23:00:00</td>\n",
       "    </tr>\n",
       "  </tbody>\n",
       "</table>\n",
       "</div>"
      ],
      "text/plain": [
       "               Région                date  Consommation (MW)           date_time\n",
       "403033  Ile-de-France 2018-12-31 19:00:00            20763.0 2018-12-31 19:00:00\n",
       "403034  Ile-de-France 2018-12-31 20:00:00            20236.0 2018-12-31 20:00:00\n",
       "403035  Ile-de-France 2018-12-31 21:00:00            18923.0 2018-12-31 21:00:00\n",
       "403036  Ile-de-France 2018-12-31 22:00:00            17614.0 2018-12-31 22:00:00\n",
       "403037  Ile-de-France 2018-12-31 23:00:00            18173.0 2018-12-31 23:00:00"
      ]
     },
     "execution_count": 27,
     "metadata": {},
     "output_type": "execute_result"
    }
   ],
   "source": [
    "df_region_per_hour_ile_de_france_small_train.tail()"
   ]
  },
  {
   "cell_type": "code",
   "execution_count": 28,
   "metadata": {},
   "outputs": [],
   "source": [
    "model_energy = Prophet(interval_width=0.9)\n"
   ]
  },
  {
   "cell_type": "code",
   "execution_count": 29,
   "metadata": {},
   "outputs": [
    {
     "name": "stderr",
     "output_type": "stream",
     "text": [
      "/anaconda3/lib/python3.7/site-packages/pandas/core/frame.py:4223: SettingWithCopyWarning:\n",
      "\n",
      "\n",
      "A value is trying to be set on a copy of a slice from a DataFrame\n",
      "\n",
      "See the caveats in the documentation: http://pandas.pydata.org/pandas-docs/stable/user_guide/indexing.html#returning-a-view-versus-a-copy\n",
      "\n"
     ]
    }
   ],
   "source": [
    "df_region_per_hour_ile_de_france_small_train.rename(columns={\"date_time\": \"ds\"}, inplace=True)\n",
    "df_region_per_hour_ile_de_france_small_train.rename(columns={\"Consommation (MW)\": \"y\"}, inplace=True)"
   ]
  },
  {
   "cell_type": "code",
   "execution_count": 30,
   "metadata": {},
   "outputs": [],
   "source": [
    "df_prophet_train = df_region_per_hour_ile_de_france_small_train[['ds','y']]"
   ]
  },
  {
   "cell_type": "code",
   "execution_count": 31,
   "metadata": {},
   "outputs": [
    {
     "data": {
      "text/html": [
       "<div>\n",
       "<style scoped>\n",
       "    .dataframe tbody tr th:only-of-type {\n",
       "        vertical-align: middle;\n",
       "    }\n",
       "\n",
       "    .dataframe tbody tr th {\n",
       "        vertical-align: top;\n",
       "    }\n",
       "\n",
       "    .dataframe thead th {\n",
       "        text-align: right;\n",
       "    }\n",
       "</style>\n",
       "<table border=\"1\" class=\"dataframe\">\n",
       "  <thead>\n",
       "    <tr style=\"text-align: right;\">\n",
       "      <th></th>\n",
       "      <th>ds</th>\n",
       "      <th>y</th>\n",
       "    </tr>\n",
       "  </thead>\n",
       "  <tbody>\n",
       "    <tr>\n",
       "      <td>403033</td>\n",
       "      <td>2018-12-31 19:00:00</td>\n",
       "      <td>20763.0</td>\n",
       "    </tr>\n",
       "    <tr>\n",
       "      <td>403034</td>\n",
       "      <td>2018-12-31 20:00:00</td>\n",
       "      <td>20236.0</td>\n",
       "    </tr>\n",
       "    <tr>\n",
       "      <td>403035</td>\n",
       "      <td>2018-12-31 21:00:00</td>\n",
       "      <td>18923.0</td>\n",
       "    </tr>\n",
       "    <tr>\n",
       "      <td>403036</td>\n",
       "      <td>2018-12-31 22:00:00</td>\n",
       "      <td>17614.0</td>\n",
       "    </tr>\n",
       "    <tr>\n",
       "      <td>403037</td>\n",
       "      <td>2018-12-31 23:00:00</td>\n",
       "      <td>18173.0</td>\n",
       "    </tr>\n",
       "  </tbody>\n",
       "</table>\n",
       "</div>"
      ],
      "text/plain": [
       "                        ds        y\n",
       "403033 2018-12-31 19:00:00  20763.0\n",
       "403034 2018-12-31 20:00:00  20236.0\n",
       "403035 2018-12-31 21:00:00  18923.0\n",
       "403036 2018-12-31 22:00:00  17614.0\n",
       "403037 2018-12-31 23:00:00  18173.0"
      ]
     },
     "execution_count": 31,
     "metadata": {},
     "output_type": "execute_result"
    }
   ],
   "source": [
    "df_prophet_train.tail()"
   ]
  },
  {
   "cell_type": "code",
   "execution_count": 32,
   "metadata": {},
   "outputs": [
    {
     "data": {
      "text/plain": [
       "ds    17518\n",
       "y     17518\n",
       "dtype: int64"
      ]
     },
     "execution_count": 32,
     "metadata": {},
     "output_type": "execute_result"
    }
   ],
   "source": [
    "df_prophet_train.count()"
   ]
  },
  {
   "cell_type": "code",
   "execution_count": 33,
   "metadata": {},
   "outputs": [],
   "source": [
    "# It takes me 45 min to train a model  over 5 years !"
   ]
  },
  {
   "cell_type": "code",
   "execution_count": 34,
   "metadata": {},
   "outputs": [
    {
     "name": "stderr",
     "output_type": "stream",
     "text": [
      "INFO:fbprophet:Disabling yearly seasonality. Run prophet with yearly_seasonality=True to override this.\n",
      "/anaconda3/lib/python3.7/site-packages/pystan/misc.py:399: FutureWarning:\n",
      "\n",
      "Conversion of the second argument of issubdtype from `float` to `np.floating` is deprecated. In future, it will be treated as `np.float64 == np.dtype(float).type`.\n",
      "\n"
     ]
    },
    {
     "name": "stdout",
     "output_type": "stream",
     "text": [
      "This model took 29.82 seconds to train\n"
     ]
    }
   ],
   "source": [
    "start_time = time()\n",
    "model_energy.fit(df_prophet_train)\n",
    "end_time = time()\n",
    "print (\"This model took %.2f seconds to train\" % (end_time - start_time))"
   ]
  },
  {
   "cell_type": "code",
   "execution_count": 35,
   "metadata": {},
   "outputs": [],
   "source": [
    "future_ile_de_france_energy_date_2019 = model_energy.make_future_dataframe(periods=14*24,freq='H', include_history = False)\n"
   ]
  },
  {
   "cell_type": "code",
   "execution_count": 36,
   "metadata": {},
   "outputs": [
    {
     "data": {
      "text/html": [
       "<div>\n",
       "<style scoped>\n",
       "    .dataframe tbody tr th:only-of-type {\n",
       "        vertical-align: middle;\n",
       "    }\n",
       "\n",
       "    .dataframe tbody tr th {\n",
       "        vertical-align: top;\n",
       "    }\n",
       "\n",
       "    .dataframe thead th {\n",
       "        text-align: right;\n",
       "    }\n",
       "</style>\n",
       "<table border=\"1\" class=\"dataframe\">\n",
       "  <thead>\n",
       "    <tr style=\"text-align: right;\">\n",
       "      <th></th>\n",
       "      <th>ds</th>\n",
       "    </tr>\n",
       "  </thead>\n",
       "  <tbody>\n",
       "    <tr>\n",
       "      <td>236</td>\n",
       "      <td>2019-01-10 20:00:00</td>\n",
       "    </tr>\n",
       "    <tr>\n",
       "      <td>237</td>\n",
       "      <td>2019-01-10 21:00:00</td>\n",
       "    </tr>\n",
       "    <tr>\n",
       "      <td>238</td>\n",
       "      <td>2019-01-10 22:00:00</td>\n",
       "    </tr>\n",
       "    <tr>\n",
       "      <td>239</td>\n",
       "      <td>2019-01-10 23:00:00</td>\n",
       "    </tr>\n",
       "    <tr>\n",
       "      <td>240</td>\n",
       "      <td>2019-01-11 00:00:00</td>\n",
       "    </tr>\n",
       "    <tr>\n",
       "      <td>241</td>\n",
       "      <td>2019-01-11 01:00:00</td>\n",
       "    </tr>\n",
       "    <tr>\n",
       "      <td>242</td>\n",
       "      <td>2019-01-11 02:00:00</td>\n",
       "    </tr>\n",
       "    <tr>\n",
       "      <td>243</td>\n",
       "      <td>2019-01-11 03:00:00</td>\n",
       "    </tr>\n",
       "    <tr>\n",
       "      <td>244</td>\n",
       "      <td>2019-01-11 04:00:00</td>\n",
       "    </tr>\n",
       "    <tr>\n",
       "      <td>245</td>\n",
       "      <td>2019-01-11 05:00:00</td>\n",
       "    </tr>\n",
       "    <tr>\n",
       "      <td>246</td>\n",
       "      <td>2019-01-11 06:00:00</td>\n",
       "    </tr>\n",
       "    <tr>\n",
       "      <td>247</td>\n",
       "      <td>2019-01-11 07:00:00</td>\n",
       "    </tr>\n",
       "    <tr>\n",
       "      <td>248</td>\n",
       "      <td>2019-01-11 08:00:00</td>\n",
       "    </tr>\n",
       "    <tr>\n",
       "      <td>249</td>\n",
       "      <td>2019-01-11 09:00:00</td>\n",
       "    </tr>\n",
       "    <tr>\n",
       "      <td>250</td>\n",
       "      <td>2019-01-11 10:00:00</td>\n",
       "    </tr>\n",
       "    <tr>\n",
       "      <td>251</td>\n",
       "      <td>2019-01-11 11:00:00</td>\n",
       "    </tr>\n",
       "    <tr>\n",
       "      <td>252</td>\n",
       "      <td>2019-01-11 12:00:00</td>\n",
       "    </tr>\n",
       "    <tr>\n",
       "      <td>253</td>\n",
       "      <td>2019-01-11 13:00:00</td>\n",
       "    </tr>\n",
       "    <tr>\n",
       "      <td>254</td>\n",
       "      <td>2019-01-11 14:00:00</td>\n",
       "    </tr>\n",
       "    <tr>\n",
       "      <td>255</td>\n",
       "      <td>2019-01-11 15:00:00</td>\n",
       "    </tr>\n",
       "    <tr>\n",
       "      <td>256</td>\n",
       "      <td>2019-01-11 16:00:00</td>\n",
       "    </tr>\n",
       "    <tr>\n",
       "      <td>257</td>\n",
       "      <td>2019-01-11 17:00:00</td>\n",
       "    </tr>\n",
       "    <tr>\n",
       "      <td>258</td>\n",
       "      <td>2019-01-11 18:00:00</td>\n",
       "    </tr>\n",
       "    <tr>\n",
       "      <td>259</td>\n",
       "      <td>2019-01-11 19:00:00</td>\n",
       "    </tr>\n",
       "    <tr>\n",
       "      <td>260</td>\n",
       "      <td>2019-01-11 20:00:00</td>\n",
       "    </tr>\n",
       "    <tr>\n",
       "      <td>261</td>\n",
       "      <td>2019-01-11 21:00:00</td>\n",
       "    </tr>\n",
       "    <tr>\n",
       "      <td>262</td>\n",
       "      <td>2019-01-11 22:00:00</td>\n",
       "    </tr>\n",
       "    <tr>\n",
       "      <td>263</td>\n",
       "      <td>2019-01-11 23:00:00</td>\n",
       "    </tr>\n",
       "    <tr>\n",
       "      <td>264</td>\n",
       "      <td>2019-01-12 00:00:00</td>\n",
       "    </tr>\n",
       "    <tr>\n",
       "      <td>265</td>\n",
       "      <td>2019-01-12 01:00:00</td>\n",
       "    </tr>\n",
       "    <tr>\n",
       "      <td>266</td>\n",
       "      <td>2019-01-12 02:00:00</td>\n",
       "    </tr>\n",
       "    <tr>\n",
       "      <td>267</td>\n",
       "      <td>2019-01-12 03:00:00</td>\n",
       "    </tr>\n",
       "    <tr>\n",
       "      <td>268</td>\n",
       "      <td>2019-01-12 04:00:00</td>\n",
       "    </tr>\n",
       "    <tr>\n",
       "      <td>269</td>\n",
       "      <td>2019-01-12 05:00:00</td>\n",
       "    </tr>\n",
       "    <tr>\n",
       "      <td>270</td>\n",
       "      <td>2019-01-12 06:00:00</td>\n",
       "    </tr>\n",
       "    <tr>\n",
       "      <td>271</td>\n",
       "      <td>2019-01-12 07:00:00</td>\n",
       "    </tr>\n",
       "    <tr>\n",
       "      <td>272</td>\n",
       "      <td>2019-01-12 08:00:00</td>\n",
       "    </tr>\n",
       "    <tr>\n",
       "      <td>273</td>\n",
       "      <td>2019-01-12 09:00:00</td>\n",
       "    </tr>\n",
       "    <tr>\n",
       "      <td>274</td>\n",
       "      <td>2019-01-12 10:00:00</td>\n",
       "    </tr>\n",
       "    <tr>\n",
       "      <td>275</td>\n",
       "      <td>2019-01-12 11:00:00</td>\n",
       "    </tr>\n",
       "    <tr>\n",
       "      <td>276</td>\n",
       "      <td>2019-01-12 12:00:00</td>\n",
       "    </tr>\n",
       "    <tr>\n",
       "      <td>277</td>\n",
       "      <td>2019-01-12 13:00:00</td>\n",
       "    </tr>\n",
       "    <tr>\n",
       "      <td>278</td>\n",
       "      <td>2019-01-12 14:00:00</td>\n",
       "    </tr>\n",
       "    <tr>\n",
       "      <td>279</td>\n",
       "      <td>2019-01-12 15:00:00</td>\n",
       "    </tr>\n",
       "    <tr>\n",
       "      <td>280</td>\n",
       "      <td>2019-01-12 16:00:00</td>\n",
       "    </tr>\n",
       "    <tr>\n",
       "      <td>281</td>\n",
       "      <td>2019-01-12 17:00:00</td>\n",
       "    </tr>\n",
       "    <tr>\n",
       "      <td>282</td>\n",
       "      <td>2019-01-12 18:00:00</td>\n",
       "    </tr>\n",
       "    <tr>\n",
       "      <td>283</td>\n",
       "      <td>2019-01-12 19:00:00</td>\n",
       "    </tr>\n",
       "    <tr>\n",
       "      <td>284</td>\n",
       "      <td>2019-01-12 20:00:00</td>\n",
       "    </tr>\n",
       "    <tr>\n",
       "      <td>285</td>\n",
       "      <td>2019-01-12 21:00:00</td>\n",
       "    </tr>\n",
       "    <tr>\n",
       "      <td>286</td>\n",
       "      <td>2019-01-12 22:00:00</td>\n",
       "    </tr>\n",
       "    <tr>\n",
       "      <td>287</td>\n",
       "      <td>2019-01-12 23:00:00</td>\n",
       "    </tr>\n",
       "    <tr>\n",
       "      <td>288</td>\n",
       "      <td>2019-01-13 00:00:00</td>\n",
       "    </tr>\n",
       "    <tr>\n",
       "      <td>289</td>\n",
       "      <td>2019-01-13 01:00:00</td>\n",
       "    </tr>\n",
       "    <tr>\n",
       "      <td>290</td>\n",
       "      <td>2019-01-13 02:00:00</td>\n",
       "    </tr>\n",
       "    <tr>\n",
       "      <td>291</td>\n",
       "      <td>2019-01-13 03:00:00</td>\n",
       "    </tr>\n",
       "    <tr>\n",
       "      <td>292</td>\n",
       "      <td>2019-01-13 04:00:00</td>\n",
       "    </tr>\n",
       "    <tr>\n",
       "      <td>293</td>\n",
       "      <td>2019-01-13 05:00:00</td>\n",
       "    </tr>\n",
       "    <tr>\n",
       "      <td>294</td>\n",
       "      <td>2019-01-13 06:00:00</td>\n",
       "    </tr>\n",
       "    <tr>\n",
       "      <td>295</td>\n",
       "      <td>2019-01-13 07:00:00</td>\n",
       "    </tr>\n",
       "    <tr>\n",
       "      <td>296</td>\n",
       "      <td>2019-01-13 08:00:00</td>\n",
       "    </tr>\n",
       "    <tr>\n",
       "      <td>297</td>\n",
       "      <td>2019-01-13 09:00:00</td>\n",
       "    </tr>\n",
       "    <tr>\n",
       "      <td>298</td>\n",
       "      <td>2019-01-13 10:00:00</td>\n",
       "    </tr>\n",
       "    <tr>\n",
       "      <td>299</td>\n",
       "      <td>2019-01-13 11:00:00</td>\n",
       "    </tr>\n",
       "    <tr>\n",
       "      <td>300</td>\n",
       "      <td>2019-01-13 12:00:00</td>\n",
       "    </tr>\n",
       "    <tr>\n",
       "      <td>301</td>\n",
       "      <td>2019-01-13 13:00:00</td>\n",
       "    </tr>\n",
       "    <tr>\n",
       "      <td>302</td>\n",
       "      <td>2019-01-13 14:00:00</td>\n",
       "    </tr>\n",
       "    <tr>\n",
       "      <td>303</td>\n",
       "      <td>2019-01-13 15:00:00</td>\n",
       "    </tr>\n",
       "    <tr>\n",
       "      <td>304</td>\n",
       "      <td>2019-01-13 16:00:00</td>\n",
       "    </tr>\n",
       "    <tr>\n",
       "      <td>305</td>\n",
       "      <td>2019-01-13 17:00:00</td>\n",
       "    </tr>\n",
       "    <tr>\n",
       "      <td>306</td>\n",
       "      <td>2019-01-13 18:00:00</td>\n",
       "    </tr>\n",
       "    <tr>\n",
       "      <td>307</td>\n",
       "      <td>2019-01-13 19:00:00</td>\n",
       "    </tr>\n",
       "    <tr>\n",
       "      <td>308</td>\n",
       "      <td>2019-01-13 20:00:00</td>\n",
       "    </tr>\n",
       "    <tr>\n",
       "      <td>309</td>\n",
       "      <td>2019-01-13 21:00:00</td>\n",
       "    </tr>\n",
       "    <tr>\n",
       "      <td>310</td>\n",
       "      <td>2019-01-13 22:00:00</td>\n",
       "    </tr>\n",
       "    <tr>\n",
       "      <td>311</td>\n",
       "      <td>2019-01-13 23:00:00</td>\n",
       "    </tr>\n",
       "    <tr>\n",
       "      <td>312</td>\n",
       "      <td>2019-01-14 00:00:00</td>\n",
       "    </tr>\n",
       "    <tr>\n",
       "      <td>313</td>\n",
       "      <td>2019-01-14 01:00:00</td>\n",
       "    </tr>\n",
       "    <tr>\n",
       "      <td>314</td>\n",
       "      <td>2019-01-14 02:00:00</td>\n",
       "    </tr>\n",
       "    <tr>\n",
       "      <td>315</td>\n",
       "      <td>2019-01-14 03:00:00</td>\n",
       "    </tr>\n",
       "    <tr>\n",
       "      <td>316</td>\n",
       "      <td>2019-01-14 04:00:00</td>\n",
       "    </tr>\n",
       "    <tr>\n",
       "      <td>317</td>\n",
       "      <td>2019-01-14 05:00:00</td>\n",
       "    </tr>\n",
       "    <tr>\n",
       "      <td>318</td>\n",
       "      <td>2019-01-14 06:00:00</td>\n",
       "    </tr>\n",
       "    <tr>\n",
       "      <td>319</td>\n",
       "      <td>2019-01-14 07:00:00</td>\n",
       "    </tr>\n",
       "    <tr>\n",
       "      <td>320</td>\n",
       "      <td>2019-01-14 08:00:00</td>\n",
       "    </tr>\n",
       "    <tr>\n",
       "      <td>321</td>\n",
       "      <td>2019-01-14 09:00:00</td>\n",
       "    </tr>\n",
       "    <tr>\n",
       "      <td>322</td>\n",
       "      <td>2019-01-14 10:00:00</td>\n",
       "    </tr>\n",
       "    <tr>\n",
       "      <td>323</td>\n",
       "      <td>2019-01-14 11:00:00</td>\n",
       "    </tr>\n",
       "    <tr>\n",
       "      <td>324</td>\n",
       "      <td>2019-01-14 12:00:00</td>\n",
       "    </tr>\n",
       "    <tr>\n",
       "      <td>325</td>\n",
       "      <td>2019-01-14 13:00:00</td>\n",
       "    </tr>\n",
       "    <tr>\n",
       "      <td>326</td>\n",
       "      <td>2019-01-14 14:00:00</td>\n",
       "    </tr>\n",
       "    <tr>\n",
       "      <td>327</td>\n",
       "      <td>2019-01-14 15:00:00</td>\n",
       "    </tr>\n",
       "    <tr>\n",
       "      <td>328</td>\n",
       "      <td>2019-01-14 16:00:00</td>\n",
       "    </tr>\n",
       "    <tr>\n",
       "      <td>329</td>\n",
       "      <td>2019-01-14 17:00:00</td>\n",
       "    </tr>\n",
       "    <tr>\n",
       "      <td>330</td>\n",
       "      <td>2019-01-14 18:00:00</td>\n",
       "    </tr>\n",
       "    <tr>\n",
       "      <td>331</td>\n",
       "      <td>2019-01-14 19:00:00</td>\n",
       "    </tr>\n",
       "    <tr>\n",
       "      <td>332</td>\n",
       "      <td>2019-01-14 20:00:00</td>\n",
       "    </tr>\n",
       "    <tr>\n",
       "      <td>333</td>\n",
       "      <td>2019-01-14 21:00:00</td>\n",
       "    </tr>\n",
       "    <tr>\n",
       "      <td>334</td>\n",
       "      <td>2019-01-14 22:00:00</td>\n",
       "    </tr>\n",
       "    <tr>\n",
       "      <td>335</td>\n",
       "      <td>2019-01-14 23:00:00</td>\n",
       "    </tr>\n",
       "  </tbody>\n",
       "</table>\n",
       "</div>"
      ],
      "text/plain": [
       "                     ds\n",
       "236 2019-01-10 20:00:00\n",
       "237 2019-01-10 21:00:00\n",
       "238 2019-01-10 22:00:00\n",
       "239 2019-01-10 23:00:00\n",
       "240 2019-01-11 00:00:00\n",
       "241 2019-01-11 01:00:00\n",
       "242 2019-01-11 02:00:00\n",
       "243 2019-01-11 03:00:00\n",
       "244 2019-01-11 04:00:00\n",
       "245 2019-01-11 05:00:00\n",
       "246 2019-01-11 06:00:00\n",
       "247 2019-01-11 07:00:00\n",
       "248 2019-01-11 08:00:00\n",
       "249 2019-01-11 09:00:00\n",
       "250 2019-01-11 10:00:00\n",
       "251 2019-01-11 11:00:00\n",
       "252 2019-01-11 12:00:00\n",
       "253 2019-01-11 13:00:00\n",
       "254 2019-01-11 14:00:00\n",
       "255 2019-01-11 15:00:00\n",
       "256 2019-01-11 16:00:00\n",
       "257 2019-01-11 17:00:00\n",
       "258 2019-01-11 18:00:00\n",
       "259 2019-01-11 19:00:00\n",
       "260 2019-01-11 20:00:00\n",
       "261 2019-01-11 21:00:00\n",
       "262 2019-01-11 22:00:00\n",
       "263 2019-01-11 23:00:00\n",
       "264 2019-01-12 00:00:00\n",
       "265 2019-01-12 01:00:00\n",
       "266 2019-01-12 02:00:00\n",
       "267 2019-01-12 03:00:00\n",
       "268 2019-01-12 04:00:00\n",
       "269 2019-01-12 05:00:00\n",
       "270 2019-01-12 06:00:00\n",
       "271 2019-01-12 07:00:00\n",
       "272 2019-01-12 08:00:00\n",
       "273 2019-01-12 09:00:00\n",
       "274 2019-01-12 10:00:00\n",
       "275 2019-01-12 11:00:00\n",
       "276 2019-01-12 12:00:00\n",
       "277 2019-01-12 13:00:00\n",
       "278 2019-01-12 14:00:00\n",
       "279 2019-01-12 15:00:00\n",
       "280 2019-01-12 16:00:00\n",
       "281 2019-01-12 17:00:00\n",
       "282 2019-01-12 18:00:00\n",
       "283 2019-01-12 19:00:00\n",
       "284 2019-01-12 20:00:00\n",
       "285 2019-01-12 21:00:00\n",
       "286 2019-01-12 22:00:00\n",
       "287 2019-01-12 23:00:00\n",
       "288 2019-01-13 00:00:00\n",
       "289 2019-01-13 01:00:00\n",
       "290 2019-01-13 02:00:00\n",
       "291 2019-01-13 03:00:00\n",
       "292 2019-01-13 04:00:00\n",
       "293 2019-01-13 05:00:00\n",
       "294 2019-01-13 06:00:00\n",
       "295 2019-01-13 07:00:00\n",
       "296 2019-01-13 08:00:00\n",
       "297 2019-01-13 09:00:00\n",
       "298 2019-01-13 10:00:00\n",
       "299 2019-01-13 11:00:00\n",
       "300 2019-01-13 12:00:00\n",
       "301 2019-01-13 13:00:00\n",
       "302 2019-01-13 14:00:00\n",
       "303 2019-01-13 15:00:00\n",
       "304 2019-01-13 16:00:00\n",
       "305 2019-01-13 17:00:00\n",
       "306 2019-01-13 18:00:00\n",
       "307 2019-01-13 19:00:00\n",
       "308 2019-01-13 20:00:00\n",
       "309 2019-01-13 21:00:00\n",
       "310 2019-01-13 22:00:00\n",
       "311 2019-01-13 23:00:00\n",
       "312 2019-01-14 00:00:00\n",
       "313 2019-01-14 01:00:00\n",
       "314 2019-01-14 02:00:00\n",
       "315 2019-01-14 03:00:00\n",
       "316 2019-01-14 04:00:00\n",
       "317 2019-01-14 05:00:00\n",
       "318 2019-01-14 06:00:00\n",
       "319 2019-01-14 07:00:00\n",
       "320 2019-01-14 08:00:00\n",
       "321 2019-01-14 09:00:00\n",
       "322 2019-01-14 10:00:00\n",
       "323 2019-01-14 11:00:00\n",
       "324 2019-01-14 12:00:00\n",
       "325 2019-01-14 13:00:00\n",
       "326 2019-01-14 14:00:00\n",
       "327 2019-01-14 15:00:00\n",
       "328 2019-01-14 16:00:00\n",
       "329 2019-01-14 17:00:00\n",
       "330 2019-01-14 18:00:00\n",
       "331 2019-01-14 19:00:00\n",
       "332 2019-01-14 20:00:00\n",
       "333 2019-01-14 21:00:00\n",
       "334 2019-01-14 22:00:00\n",
       "335 2019-01-14 23:00:00"
      ]
     },
     "execution_count": 36,
     "metadata": {},
     "output_type": "execute_result"
    }
   ],
   "source": [
    "future_ile_de_france_energy_date_2019.tail(100)"
   ]
  },
  {
   "cell_type": "code",
   "execution_count": 37,
   "metadata": {},
   "outputs": [
    {
     "name": "stdout",
     "output_type": "stream",
     "text": [
      "This took 2.99 seconds\n"
     ]
    }
   ],
   "source": [
    "start_time = time()\n",
    "future_energy_forcast_ile_de_france_2019 = model_energy.predict(future_ile_de_france_energy_date_2019)\n",
    "end_time = time()\n",
    "print (\"This took %.2f seconds\" % (end_time - start_time))"
   ]
  },
  {
   "cell_type": "code",
   "execution_count": 38,
   "metadata": {},
   "outputs": [
    {
     "data": {
      "text/plain": [
       "ds            336\n",
       "yhat          336\n",
       "yhat_lower    336\n",
       "yhat_upper    336\n",
       "dtype: int64"
      ]
     },
     "execution_count": 38,
     "metadata": {},
     "output_type": "execute_result"
    }
   ],
   "source": [
    "future_energy_forcast_ile_de_france_2019[['ds', 'yhat', 'yhat_lower', 'yhat_upper']].count()"
   ]
  },
  {
   "cell_type": "markdown",
   "metadata": {},
   "source": [
    "df_region_per_day_ile_de_france_2017_2018.head()"
   ]
  },
  {
   "cell_type": "code",
   "execution_count": 39,
   "metadata": {},
   "outputs": [],
   "source": [
    "future_energy_forcast_ile_de_france_2019_plot= future_energy_forcast_ile_de_france_2019"
   ]
  },
  {
   "cell_type": "code",
   "execution_count": 40,
   "metadata": {},
   "outputs": [],
   "source": [
    "df_region_per_hour_ile_de_france_plot=df_region_per_hour_ile_de_france_small"
   ]
  },
  {
   "cell_type": "code",
   "execution_count": 41,
   "metadata": {},
   "outputs": [],
   "source": [
    "import matplotlib"
   ]
  },
  {
   "cell_type": "code",
   "execution_count": 79,
   "metadata": {
    "scrolled": true
   },
   "outputs": [
    {
     "data": {
      "text/plain": [
       "<matplotlib.legend.Legend at 0x1a2a5884e0>"
      ]
     },
     "execution_count": 79,
     "metadata": {},
     "output_type": "execute_result"
    },
    {
     "data": {
      "image/png": "[encoded data removed]",
      "text/plain": [
       "<Figure size 1440x576 with 1 Axes>"
      ]
     },
     "metadata": {
      "needs_background": "light"
     },
     "output_type": "display_data"
    }
   ],
   "source": [
    "matplotlib.rcParams.update({'font.size': 22})\n",
    "plt.figure(figsize=(20,8),linewidth=2)\n",
    "plt.plot(df_region_per_hour_ile_de_france_plot[-650:].date,df_region_per_hour_ile_de_france_plot[-650:]['Consommation (MW)'],color='steelblue',label='observation',linewidth=2.0)\n",
    "plt.plot(future_energy_forcast_ile_de_france_2019_plot.ds.dt.to_pydatetime(),future_energy_forcast_ile_de_france_2019_plot.yhat,color='g',label='forecasting',linewidth=2.0)\n",
    "\n",
    "plt.fill_between(future_energy_forcast_ile_de_france_2019_plot.ds.dt.to_pydatetime(), future_energy_forcast_ile_de_france_2019_plot['yhat_lower'], future_energy_forcast_ile_de_france_2019_plot['yhat_upper'],\n",
    "                        color='green', alpha=0.2,label='90% confidence interval' )\n",
    "plt.title('Ile de France' + \" MAPE : {}%\".format(str(round(100*0.07581, 1))))\n",
    "plt.grid(which='both')\n",
    "plt.ylim([12000, 28000])\n",
    "\n",
    "plt.ylabel(\"consumption (MW)\")\n",
    "plt.rc('xtick', labelsize=18)  \n",
    "plt.rc('ytick', labelsize=18)# fontsize of the axes title\n",
    "plt.rc('axes', titlesize=24)\n",
    "plt.rc('axes', labelsize=18)\n",
    "plt.rc('legend', fontsize=18)\n",
    "plt.margins(0)\n",
    "plt.legend()\n"
   ]
  },
  {
   "cell_type": "code",
   "execution_count": null,
   "metadata": {},
   "outputs": [],
   "source": []
  },
  {
   "cell_type": "code",
   "execution_count": 46,
   "metadata": {},
   "outputs": [],
   "source": [
    "y_true = df_region_per_hour_ile_de_france_small[(df_region_per_hour_ile_de_france_small['date_time'] >= '2019-01-01')&(df_region_per_hour_ile_de_france_small['date_time'] < '2019-01-15')]['Consommation (MW)']\n"
   ]
  },
  {
   "cell_type": "code",
   "execution_count": 47,
   "metadata": {},
   "outputs": [],
   "source": [
    "y_pred = future_energy_forcast_ile_de_france_2019['yhat']"
   ]
  },
  {
   "cell_type": "code",
   "execution_count": 48,
   "metadata": {},
   "outputs": [
    {
     "data": {
      "text/plain": [
       "7.5817736798973385"
      ]
     },
     "execution_count": 48,
     "metadata": {},
     "output_type": "execute_result"
    }
   ],
   "source": [
    "mean_absolute_percentage_error(y_true, y_pred)"
   ]
  },
  {
   "cell_type": "code",
   "execution_count": null,
   "metadata": {},
   "outputs": [],
   "source": []
  },
  {
   "cell_type": "markdown",
   "metadata": {},
   "source": [
    "# Add meteo:"
   ]
  },
  {
   "cell_type": "code",
   "execution_count": 50,
   "metadata": {},
   "outputs": [
    {
     "data": {
      "text/html": [
       "<div>\n",
       "<style scoped>\n",
       "    .dataframe tbody tr th:only-of-type {\n",
       "        vertical-align: middle;\n",
       "    }\n",
       "\n",
       "    .dataframe tbody tr th {\n",
       "        vertical-align: top;\n",
       "    }\n",
       "\n",
       "    .dataframe thead th {\n",
       "        text-align: right;\n",
       "    }\n",
       "</style>\n",
       "<table border=\"1\" class=\"dataframe\">\n",
       "  <thead>\n",
       "    <tr style=\"text-align: right;\">\n",
       "      <th></th>\n",
       "      <th>DATE</th>\n",
       "      <th>max_temp_paris</th>\n",
       "    </tr>\n",
       "  </thead>\n",
       "  <tbody>\n",
       "    <tr>\n",
       "      <td>112</td>\n",
       "      <td>2019-09-21</td>\n",
       "      <td>28.0</td>\n",
       "    </tr>\n",
       "    <tr>\n",
       "      <td>113</td>\n",
       "      <td>2019-09-22</td>\n",
       "      <td>22.0</td>\n",
       "    </tr>\n",
       "    <tr>\n",
       "      <td>114</td>\n",
       "      <td>2019-09-23</td>\n",
       "      <td>22.0</td>\n",
       "    </tr>\n",
       "    <tr>\n",
       "      <td>115</td>\n",
       "      <td>2019-09-24</td>\n",
       "      <td>20.0</td>\n",
       "    </tr>\n",
       "    <tr>\n",
       "      <td>116</td>\n",
       "      <td>2019-09-25</td>\n",
       "      <td>18.0</td>\n",
       "    </tr>\n",
       "    <tr>\n",
       "      <td>117</td>\n",
       "      <td>2019-09-26</td>\n",
       "      <td>21.0</td>\n",
       "    </tr>\n",
       "    <tr>\n",
       "      <td>118</td>\n",
       "      <td>2019-09-27</td>\n",
       "      <td>21.0</td>\n",
       "    </tr>\n",
       "    <tr>\n",
       "      <td>119</td>\n",
       "      <td>2019-09-28</td>\n",
       "      <td>19.0</td>\n",
       "    </tr>\n",
       "    <tr>\n",
       "      <td>120</td>\n",
       "      <td>2019-09-29</td>\n",
       "      <td>19.0</td>\n",
       "    </tr>\n",
       "    <tr>\n",
       "      <td>121</td>\n",
       "      <td>2019-09-30</td>\n",
       "      <td>20.0</td>\n",
       "    </tr>\n",
       "  </tbody>\n",
       "</table>\n",
       "</div>"
      ],
      "text/plain": [
       "           DATE  max_temp_paris\n",
       "112  2019-09-21            28.0\n",
       "113  2019-09-22            22.0\n",
       "114  2019-09-23            22.0\n",
       "115  2019-09-24            20.0\n",
       "116  2019-09-25            18.0\n",
       "117  2019-09-26            21.0\n",
       "118  2019-09-27            21.0\n",
       "119  2019-09-28            19.0\n",
       "120  2019-09-29            19.0\n",
       "121  2019-09-30            20.0"
      ]
     },
     "execution_count": 50,
     "metadata": {},
     "output_type": "execute_result"
    }
   ],
   "source": [
    "full_meteo = pd.read_csv(\"../data/full_meteo.csv\", parse_dates=[\"DATE\"]).rename(\n",
    "columns={\"MAX_TEMP\": \"max_temp_paris\"})[[\"DATE\", \"max_temp_paris\"]]\n",
    "last_meteo_paris = pd.read_csv('../data/' + \"meteo_paris_2019_juin_sept.csv\",\n",
    "                               sep=\";\", parse_dates=[\"DATE\"]).rename(columns={\"MAX_TEMP\": \"max_temp_paris\"})\n",
    "full_meteo = pd.concat([full_meteo, last_meteo_paris], axis=0)\n",
    "full_meteo[\"DATE\"] = full_meteo[\"DATE\"].apply(lambda x: x.date())\n",
    "full_meteo.tail(10)"
   ]
  },
  {
   "cell_type": "code",
   "execution_count": 51,
   "metadata": {},
   "outputs": [],
   "source": [
    "df_region_per_hour_ile_de_france = df_region_per_hour_ile_de_france_small"
   ]
  },
  {
   "cell_type": "code",
   "execution_count": 52,
   "metadata": {},
   "outputs": [
    {
     "data": {
      "text/html": [
       "<div>\n",
       "<style scoped>\n",
       "    .dataframe tbody tr th:only-of-type {\n",
       "        vertical-align: middle;\n",
       "    }\n",
       "\n",
       "    .dataframe tbody tr th {\n",
       "        vertical-align: top;\n",
       "    }\n",
       "\n",
       "    .dataframe thead th {\n",
       "        text-align: right;\n",
       "    }\n",
       "</style>\n",
       "<table border=\"1\" class=\"dataframe\">\n",
       "  <thead>\n",
       "    <tr style=\"text-align: right;\">\n",
       "      <th></th>\n",
       "      <th>Région</th>\n",
       "      <th>date</th>\n",
       "      <th>Consommation (MW)</th>\n",
       "      <th>date_time</th>\n",
       "    </tr>\n",
       "  </thead>\n",
       "  <tbody>\n",
       "    <tr>\n",
       "      <td>385520</td>\n",
       "      <td>Ile-de-France</td>\n",
       "      <td>2017-01-01 00:00:00</td>\n",
       "      <td>24147.0</td>\n",
       "      <td>2017-01-01 00:00:00</td>\n",
       "    </tr>\n",
       "    <tr>\n",
       "      <td>385521</td>\n",
       "      <td>Ile-de-France</td>\n",
       "      <td>2017-01-01 01:00:00</td>\n",
       "      <td>23337.0</td>\n",
       "      <td>2017-01-01 01:00:00</td>\n",
       "    </tr>\n",
       "    <tr>\n",
       "      <td>385522</td>\n",
       "      <td>Ile-de-France</td>\n",
       "      <td>2017-01-01 02:00:00</td>\n",
       "      <td>22179.0</td>\n",
       "      <td>2017-01-01 02:00:00</td>\n",
       "    </tr>\n",
       "    <tr>\n",
       "      <td>385523</td>\n",
       "      <td>Ile-de-France</td>\n",
       "      <td>2017-01-01 03:00:00</td>\n",
       "      <td>21433.0</td>\n",
       "      <td>2017-01-01 03:00:00</td>\n",
       "    </tr>\n",
       "    <tr>\n",
       "      <td>385524</td>\n",
       "      <td>Ile-de-France</td>\n",
       "      <td>2017-01-01 04:00:00</td>\n",
       "      <td>20597.0</td>\n",
       "      <td>2017-01-01 04:00:00</td>\n",
       "    </tr>\n",
       "  </tbody>\n",
       "</table>\n",
       "</div>"
      ],
      "text/plain": [
       "               Région                date  Consommation (MW)           date_time\n",
       "385520  Ile-de-France 2017-01-01 00:00:00            24147.0 2017-01-01 00:00:00\n",
       "385521  Ile-de-France 2017-01-01 01:00:00            23337.0 2017-01-01 01:00:00\n",
       "385522  Ile-de-France 2017-01-01 02:00:00            22179.0 2017-01-01 02:00:00\n",
       "385523  Ile-de-France 2017-01-01 03:00:00            21433.0 2017-01-01 03:00:00\n",
       "385524  Ile-de-France 2017-01-01 04:00:00            20597.0 2017-01-01 04:00:00"
      ]
     },
     "execution_count": 52,
     "metadata": {},
     "output_type": "execute_result"
    }
   ],
   "source": [
    "df_region_per_hour_ile_de_france.head()"
   ]
  },
  {
   "cell_type": "code",
   "execution_count": 53,
   "metadata": {},
   "outputs": [
    {
     "data": {
      "text/plain": [
       "Région                       object\n",
       "date                 datetime64[ns]\n",
       "Consommation (MW)           float64\n",
       "date_time            datetime64[ns]\n",
       "dtype: object"
      ]
     },
     "execution_count": 53,
     "metadata": {},
     "output_type": "execute_result"
    }
   ],
   "source": [
    "df_region_per_hour_ile_de_france.dtypes"
   ]
  },
  {
   "cell_type": "code",
   "execution_count": 54,
   "metadata": {},
   "outputs": [
    {
     "data": {
      "text/html": [
       "<div>\n",
       "<style scoped>\n",
       "    .dataframe tbody tr th:only-of-type {\n",
       "        vertical-align: middle;\n",
       "    }\n",
       "\n",
       "    .dataframe tbody tr th {\n",
       "        vertical-align: top;\n",
       "    }\n",
       "\n",
       "    .dataframe thead th {\n",
       "        text-align: right;\n",
       "    }\n",
       "</style>\n",
       "<table border=\"1\" class=\"dataframe\">\n",
       "  <thead>\n",
       "    <tr style=\"text-align: right;\">\n",
       "      <th></th>\n",
       "      <th>Région</th>\n",
       "      <th>date</th>\n",
       "      <th>Consommation (MW)</th>\n",
       "      <th>date_time</th>\n",
       "      <th>max_temp_paris</th>\n",
       "    </tr>\n",
       "  </thead>\n",
       "  <tbody>\n",
       "    <tr>\n",
       "      <td>17853</td>\n",
       "      <td>Ile-de-France</td>\n",
       "      <td>2019-01-14 23:00:00</td>\n",
       "      <td>20468.0</td>\n",
       "      <td>2019-01-14 23:00:00</td>\n",
       "      <td>9.0</td>\n",
       "    </tr>\n",
       "  </tbody>\n",
       "</table>\n",
       "</div>"
      ],
      "text/plain": [
       "              Région                date  Consommation (MW)           date_time  max_temp_paris\n",
       "17853  Ile-de-France 2019-01-14 23:00:00            20468.0 2019-01-14 23:00:00             9.0"
      ]
     },
     "execution_count": 54,
     "metadata": {},
     "output_type": "execute_result"
    }
   ],
   "source": [
    "df_temp = df_region_per_hour_ile_de_france.copy()\n",
    "df_temp[\"DATE\"] = df_temp[\"date\"].apply(lambda x: x.date())\n",
    "\n",
    "df_temp = pd.merge(df_temp, full_meteo[[\"DATE\", \"max_temp_paris\"]], on=\"DATE\", how=\"left\").drop(\"DATE\", axis=1)\n",
    "df_temp.tail(1)"
   ]
  },
  {
   "cell_type": "code",
   "execution_count": 55,
   "metadata": {},
   "outputs": [],
   "source": [
    "# Select training set:\n",
    "df_temp_train = df_temp[(df_temp['date']<'2019-01-01')]\n",
    "\n"
   ]
  },
  {
   "cell_type": "code",
   "execution_count": 56,
   "metadata": {},
   "outputs": [
    {
     "data": {
      "text/html": [
       "<div>\n",
       "<style scoped>\n",
       "    .dataframe tbody tr th:only-of-type {\n",
       "        vertical-align: middle;\n",
       "    }\n",
       "\n",
       "    .dataframe tbody tr th {\n",
       "        vertical-align: top;\n",
       "    }\n",
       "\n",
       "    .dataframe thead th {\n",
       "        text-align: right;\n",
       "    }\n",
       "</style>\n",
       "<table border=\"1\" class=\"dataframe\">\n",
       "  <thead>\n",
       "    <tr style=\"text-align: right;\">\n",
       "      <th></th>\n",
       "      <th>Région</th>\n",
       "      <th>date</th>\n",
       "      <th>Consommation (MW)</th>\n",
       "      <th>date_time</th>\n",
       "      <th>max_temp_paris</th>\n",
       "    </tr>\n",
       "  </thead>\n",
       "  <tbody>\n",
       "    <tr>\n",
       "      <td>17513</td>\n",
       "      <td>Ile-de-France</td>\n",
       "      <td>2018-12-31 19:00:00</td>\n",
       "      <td>20763.0</td>\n",
       "      <td>2018-12-31 19:00:00</td>\n",
       "      <td>10.0</td>\n",
       "    </tr>\n",
       "    <tr>\n",
       "      <td>17514</td>\n",
       "      <td>Ile-de-France</td>\n",
       "      <td>2018-12-31 20:00:00</td>\n",
       "      <td>20236.0</td>\n",
       "      <td>2018-12-31 20:00:00</td>\n",
       "      <td>10.0</td>\n",
       "    </tr>\n",
       "    <tr>\n",
       "      <td>17515</td>\n",
       "      <td>Ile-de-France</td>\n",
       "      <td>2018-12-31 21:00:00</td>\n",
       "      <td>18923.0</td>\n",
       "      <td>2018-12-31 21:00:00</td>\n",
       "      <td>10.0</td>\n",
       "    </tr>\n",
       "    <tr>\n",
       "      <td>17516</td>\n",
       "      <td>Ile-de-France</td>\n",
       "      <td>2018-12-31 22:00:00</td>\n",
       "      <td>17614.0</td>\n",
       "      <td>2018-12-31 22:00:00</td>\n",
       "      <td>10.0</td>\n",
       "    </tr>\n",
       "    <tr>\n",
       "      <td>17517</td>\n",
       "      <td>Ile-de-France</td>\n",
       "      <td>2018-12-31 23:00:00</td>\n",
       "      <td>18173.0</td>\n",
       "      <td>2018-12-31 23:00:00</td>\n",
       "      <td>10.0</td>\n",
       "    </tr>\n",
       "  </tbody>\n",
       "</table>\n",
       "</div>"
      ],
      "text/plain": [
       "              Région                date  Consommation (MW)           date_time  max_temp_paris\n",
       "17513  Ile-de-France 2018-12-31 19:00:00            20763.0 2018-12-31 19:00:00            10.0\n",
       "17514  Ile-de-France 2018-12-31 20:00:00            20236.0 2018-12-31 20:00:00            10.0\n",
       "17515  Ile-de-France 2018-12-31 21:00:00            18923.0 2018-12-31 21:00:00            10.0\n",
       "17516  Ile-de-France 2018-12-31 22:00:00            17614.0 2018-12-31 22:00:00            10.0\n",
       "17517  Ile-de-France 2018-12-31 23:00:00            18173.0 2018-12-31 23:00:00            10.0"
      ]
     },
     "execution_count": 56,
     "metadata": {},
     "output_type": "execute_result"
    }
   ],
   "source": [
    "df_temp_train.tail()"
   ]
  },
  {
   "cell_type": "code",
   "execution_count": 57,
   "metadata": {},
   "outputs": [],
   "source": [
    "model_energy_meteo = Prophet()"
   ]
  },
  {
   "cell_type": "code",
   "execution_count": 58,
   "metadata": {},
   "outputs": [
    {
     "data": {
      "text/plain": [
       "<fbprophet.forecaster.Prophet at 0x1a2bb8f438>"
      ]
     },
     "execution_count": 58,
     "metadata": {},
     "output_type": "execute_result"
    }
   ],
   "source": [
    "model_energy_meteo.add_regressor('max_temp_paris')"
   ]
  },
  {
   "cell_type": "code",
   "execution_count": 59,
   "metadata": {},
   "outputs": [],
   "source": [
    "df_temp_train.rename(columns={\"date\": \"ds\"}, inplace=True)\n",
    "df_temp_train.rename(columns={\"Consommation (MW)\": \"y\"}, inplace=True)"
   ]
  },
  {
   "cell_type": "code",
   "execution_count": 60,
   "metadata": {},
   "outputs": [
    {
     "data": {
      "text/html": [
       "<div>\n",
       "<style scoped>\n",
       "    .dataframe tbody tr th:only-of-type {\n",
       "        vertical-align: middle;\n",
       "    }\n",
       "\n",
       "    .dataframe tbody tr th {\n",
       "        vertical-align: top;\n",
       "    }\n",
       "\n",
       "    .dataframe thead th {\n",
       "        text-align: right;\n",
       "    }\n",
       "</style>\n",
       "<table border=\"1\" class=\"dataframe\">\n",
       "  <thead>\n",
       "    <tr style=\"text-align: right;\">\n",
       "      <th></th>\n",
       "      <th>Région</th>\n",
       "      <th>ds</th>\n",
       "      <th>y</th>\n",
       "      <th>date_time</th>\n",
       "      <th>max_temp_paris</th>\n",
       "    </tr>\n",
       "  </thead>\n",
       "  <tbody>\n",
       "    <tr>\n",
       "      <td>0</td>\n",
       "      <td>Ile-de-France</td>\n",
       "      <td>2017-01-01 00:00:00</td>\n",
       "      <td>24147.0</td>\n",
       "      <td>2017-01-01 00:00:00</td>\n",
       "      <td>3.0</td>\n",
       "    </tr>\n",
       "    <tr>\n",
       "      <td>1</td>\n",
       "      <td>Ile-de-France</td>\n",
       "      <td>2017-01-01 01:00:00</td>\n",
       "      <td>23337.0</td>\n",
       "      <td>2017-01-01 01:00:00</td>\n",
       "      <td>3.0</td>\n",
       "    </tr>\n",
       "    <tr>\n",
       "      <td>2</td>\n",
       "      <td>Ile-de-France</td>\n",
       "      <td>2017-01-01 02:00:00</td>\n",
       "      <td>22179.0</td>\n",
       "      <td>2017-01-01 02:00:00</td>\n",
       "      <td>3.0</td>\n",
       "    </tr>\n",
       "    <tr>\n",
       "      <td>3</td>\n",
       "      <td>Ile-de-France</td>\n",
       "      <td>2017-01-01 03:00:00</td>\n",
       "      <td>21433.0</td>\n",
       "      <td>2017-01-01 03:00:00</td>\n",
       "      <td>3.0</td>\n",
       "    </tr>\n",
       "    <tr>\n",
       "      <td>4</td>\n",
       "      <td>Ile-de-France</td>\n",
       "      <td>2017-01-01 04:00:00</td>\n",
       "      <td>20597.0</td>\n",
       "      <td>2017-01-01 04:00:00</td>\n",
       "      <td>3.0</td>\n",
       "    </tr>\n",
       "  </tbody>\n",
       "</table>\n",
       "</div>"
      ],
      "text/plain": [
       "          Région                  ds        y           date_time  max_temp_paris\n",
       "0  Ile-de-France 2017-01-01 00:00:00  24147.0 2017-01-01 00:00:00             3.0\n",
       "1  Ile-de-France 2017-01-01 01:00:00  23337.0 2017-01-01 01:00:00             3.0\n",
       "2  Ile-de-France 2017-01-01 02:00:00  22179.0 2017-01-01 02:00:00             3.0\n",
       "3  Ile-de-France 2017-01-01 03:00:00  21433.0 2017-01-01 03:00:00             3.0\n",
       "4  Ile-de-France 2017-01-01 04:00:00  20597.0 2017-01-01 04:00:00             3.0"
      ]
     },
     "execution_count": 60,
     "metadata": {},
     "output_type": "execute_result"
    }
   ],
   "source": [
    "df_temp_train.head()"
   ]
  },
  {
   "cell_type": "code",
   "execution_count": 61,
   "metadata": {},
   "outputs": [
    {
     "name": "stderr",
     "output_type": "stream",
     "text": [
      "INFO:fbprophet:Disabling yearly seasonality. Run prophet with yearly_seasonality=True to override this.\n"
     ]
    },
    {
     "data": {
      "text/plain": [
       "<fbprophet.forecaster.Prophet at 0x1a2bb8f438>"
      ]
     },
     "execution_count": 61,
     "metadata": {},
     "output_type": "execute_result"
    }
   ],
   "source": [
    "model_energy_meteo.fit(df_temp_train)"
   ]
  },
  {
   "cell_type": "code",
   "execution_count": 62,
   "metadata": {},
   "outputs": [],
   "source": [
    "future_ile_de_france_energy_2019_meteo_date = model_energy_meteo.make_future_dataframe(periods=14*24,freq='H', include_history = False)\n"
   ]
  },
  {
   "cell_type": "code",
   "execution_count": 63,
   "metadata": {},
   "outputs": [],
   "source": [
    "future_ile_de_france_energy_2019_meteo_date['max_temp_paris']=df_temp[(df_temp['date']>='2019-01-01')&(df_temp['date']<'2019-01-15')]['max_temp_paris'].to_numpy()\n",
    "\n"
   ]
  },
  {
   "cell_type": "code",
   "execution_count": 64,
   "metadata": {},
   "outputs": [
    {
     "data": {
      "text/html": [
       "<div>\n",
       "<style scoped>\n",
       "    .dataframe tbody tr th:only-of-type {\n",
       "        vertical-align: middle;\n",
       "    }\n",
       "\n",
       "    .dataframe tbody tr th {\n",
       "        vertical-align: top;\n",
       "    }\n",
       "\n",
       "    .dataframe thead th {\n",
       "        text-align: right;\n",
       "    }\n",
       "</style>\n",
       "<table border=\"1\" class=\"dataframe\">\n",
       "  <thead>\n",
       "    <tr style=\"text-align: right;\">\n",
       "      <th></th>\n",
       "      <th>ds</th>\n",
       "      <th>max_temp_paris</th>\n",
       "    </tr>\n",
       "  </thead>\n",
       "  <tbody>\n",
       "    <tr>\n",
       "      <td>331</td>\n",
       "      <td>2019-01-14 19:00:00</td>\n",
       "      <td>9.0</td>\n",
       "    </tr>\n",
       "    <tr>\n",
       "      <td>332</td>\n",
       "      <td>2019-01-14 20:00:00</td>\n",
       "      <td>9.0</td>\n",
       "    </tr>\n",
       "    <tr>\n",
       "      <td>333</td>\n",
       "      <td>2019-01-14 21:00:00</td>\n",
       "      <td>9.0</td>\n",
       "    </tr>\n",
       "    <tr>\n",
       "      <td>334</td>\n",
       "      <td>2019-01-14 22:00:00</td>\n",
       "      <td>9.0</td>\n",
       "    </tr>\n",
       "    <tr>\n",
       "      <td>335</td>\n",
       "      <td>2019-01-14 23:00:00</td>\n",
       "      <td>9.0</td>\n",
       "    </tr>\n",
       "  </tbody>\n",
       "</table>\n",
       "</div>"
      ],
      "text/plain": [
       "                     ds  max_temp_paris\n",
       "331 2019-01-14 19:00:00             9.0\n",
       "332 2019-01-14 20:00:00             9.0\n",
       "333 2019-01-14 21:00:00             9.0\n",
       "334 2019-01-14 22:00:00             9.0\n",
       "335 2019-01-14 23:00:00             9.0"
      ]
     },
     "execution_count": 64,
     "metadata": {},
     "output_type": "execute_result"
    }
   ],
   "source": [
    "future_ile_de_france_energy_2019_meteo_date.tail()"
   ]
  },
  {
   "cell_type": "code",
   "execution_count": 65,
   "metadata": {},
   "outputs": [],
   "source": [
    "future_energy_forcast_ile_de_france_2019_meteo = model_energy_meteo.predict(future_ile_de_france_energy_2019_meteo_date)"
   ]
  },
  {
   "cell_type": "code",
   "execution_count": 66,
   "metadata": {},
   "outputs": [
    {
     "data": {
      "text/html": [
       "<div>\n",
       "<style scoped>\n",
       "    .dataframe tbody tr th:only-of-type {\n",
       "        vertical-align: middle;\n",
       "    }\n",
       "\n",
       "    .dataframe tbody tr th {\n",
       "        vertical-align: top;\n",
       "    }\n",
       "\n",
       "    .dataframe thead th {\n",
       "        text-align: right;\n",
       "    }\n",
       "</style>\n",
       "<table border=\"1\" class=\"dataframe\">\n",
       "  <thead>\n",
       "    <tr style=\"text-align: right;\">\n",
       "      <th></th>\n",
       "      <th>ds</th>\n",
       "      <th>yhat</th>\n",
       "      <th>yhat_lower</th>\n",
       "      <th>yhat_upper</th>\n",
       "    </tr>\n",
       "  </thead>\n",
       "  <tbody>\n",
       "    <tr>\n",
       "      <td>326</td>\n",
       "      <td>2019-01-14 14:00:00</td>\n",
       "      <td>22844.173182</td>\n",
       "      <td>20965.582686</td>\n",
       "      <td>24708.713368</td>\n",
       "    </tr>\n",
       "    <tr>\n",
       "      <td>327</td>\n",
       "      <td>2019-01-14 15:00:00</td>\n",
       "      <td>22431.032060</td>\n",
       "      <td>20729.502408</td>\n",
       "      <td>24373.284872</td>\n",
       "    </tr>\n",
       "    <tr>\n",
       "      <td>328</td>\n",
       "      <td>2019-01-14 16:00:00</td>\n",
       "      <td>22184.296516</td>\n",
       "      <td>20239.348610</td>\n",
       "      <td>24138.432713</td>\n",
       "    </tr>\n",
       "    <tr>\n",
       "      <td>329</td>\n",
       "      <td>2019-01-14 17:00:00</td>\n",
       "      <td>22301.982532</td>\n",
       "      <td>20350.381670</td>\n",
       "      <td>24207.353528</td>\n",
       "    </tr>\n",
       "    <tr>\n",
       "      <td>330</td>\n",
       "      <td>2019-01-14 18:00:00</td>\n",
       "      <td>22708.316201</td>\n",
       "      <td>20963.401651</td>\n",
       "      <td>24579.637325</td>\n",
       "    </tr>\n",
       "    <tr>\n",
       "      <td>331</td>\n",
       "      <td>2019-01-14 19:00:00</td>\n",
       "      <td>23101.731124</td>\n",
       "      <td>21192.082763</td>\n",
       "      <td>24900.487521</td>\n",
       "    </tr>\n",
       "    <tr>\n",
       "      <td>332</td>\n",
       "      <td>2019-01-14 20:00:00</td>\n",
       "      <td>23196.519837</td>\n",
       "      <td>21249.619553</td>\n",
       "      <td>25140.028661</td>\n",
       "    </tr>\n",
       "    <tr>\n",
       "      <td>333</td>\n",
       "      <td>2019-01-14 21:00:00</td>\n",
       "      <td>22933.844097</td>\n",
       "      <td>21078.347644</td>\n",
       "      <td>24835.856246</td>\n",
       "    </tr>\n",
       "    <tr>\n",
       "      <td>334</td>\n",
       "      <td>2019-01-14 22:00:00</td>\n",
       "      <td>22467.406880</td>\n",
       "      <td>20609.303629</td>\n",
       "      <td>24297.973225</td>\n",
       "    </tr>\n",
       "    <tr>\n",
       "      <td>335</td>\n",
       "      <td>2019-01-14 23:00:00</td>\n",
       "      <td>21953.728304</td>\n",
       "      <td>20135.588304</td>\n",
       "      <td>23674.084054</td>\n",
       "    </tr>\n",
       "  </tbody>\n",
       "</table>\n",
       "</div>"
      ],
      "text/plain": [
       "                     ds          yhat    yhat_lower    yhat_upper\n",
       "326 2019-01-14 14:00:00  22844.173182  20965.582686  24708.713368\n",
       "327 2019-01-14 15:00:00  22431.032060  20729.502408  24373.284872\n",
       "328 2019-01-14 16:00:00  22184.296516  20239.348610  24138.432713\n",
       "329 2019-01-14 17:00:00  22301.982532  20350.381670  24207.353528\n",
       "330 2019-01-14 18:00:00  22708.316201  20963.401651  24579.637325\n",
       "331 2019-01-14 19:00:00  23101.731124  21192.082763  24900.487521\n",
       "332 2019-01-14 20:00:00  23196.519837  21249.619553  25140.028661\n",
       "333 2019-01-14 21:00:00  22933.844097  21078.347644  24835.856246\n",
       "334 2019-01-14 22:00:00  22467.406880  20609.303629  24297.973225\n",
       "335 2019-01-14 23:00:00  21953.728304  20135.588304  23674.084054"
      ]
     },
     "execution_count": 66,
     "metadata": {},
     "output_type": "execute_result"
    }
   ],
   "source": [
    "future_energy_forcast_ile_de_france_2019_meteo[['ds', 'yhat', 'yhat_lower', 'yhat_upper']].tail(10)"
   ]
  },
  {
   "cell_type": "code",
   "execution_count": 67,
   "metadata": {},
   "outputs": [],
   "source": [
    "future_energy_forcast_ile_de_france_2019_meteo_plot= future_energy_forcast_ile_de_france_2019_meteo\n"
   ]
  },
  {
   "cell_type": "code",
   "execution_count": 68,
   "metadata": {
    "scrolled": true
   },
   "outputs": [
    {
     "data": {
      "text/html": [
       "<div>\n",
       "<style scoped>\n",
       "    .dataframe tbody tr th:only-of-type {\n",
       "        vertical-align: middle;\n",
       "    }\n",
       "\n",
       "    .dataframe tbody tr th {\n",
       "        vertical-align: top;\n",
       "    }\n",
       "\n",
       "    .dataframe thead th {\n",
       "        text-align: right;\n",
       "    }\n",
       "</style>\n",
       "<table border=\"1\" class=\"dataframe\">\n",
       "  <thead>\n",
       "    <tr style=\"text-align: right;\">\n",
       "      <th></th>\n",
       "      <th>ds</th>\n",
       "      <th>trend</th>\n",
       "      <th>yhat_lower</th>\n",
       "      <th>yhat_upper</th>\n",
       "      <th>trend_lower</th>\n",
       "      <th>trend_upper</th>\n",
       "      <th>additive_terms</th>\n",
       "      <th>additive_terms_lower</th>\n",
       "      <th>additive_terms_upper</th>\n",
       "      <th>daily</th>\n",
       "      <th>daily_lower</th>\n",
       "      <th>daily_upper</th>\n",
       "      <th>extra_regressors_additive</th>\n",
       "      <th>extra_regressors_additive_lower</th>\n",
       "      <th>extra_regressors_additive_upper</th>\n",
       "      <th>max_temp_paris</th>\n",
       "      <th>max_temp_paris_lower</th>\n",
       "      <th>max_temp_paris_upper</th>\n",
       "      <th>weekly</th>\n",
       "      <th>weekly_lower</th>\n",
       "      <th>weekly_upper</th>\n",
       "      <th>multiplicative_terms</th>\n",
       "      <th>multiplicative_terms_lower</th>\n",
       "      <th>multiplicative_terms_upper</th>\n",
       "      <th>yhat</th>\n",
       "    </tr>\n",
       "  </thead>\n",
       "  <tbody>\n",
       "    <tr>\n",
       "      <td>331</td>\n",
       "      <td>2019-01-14 19:00:00</td>\n",
       "      <td>19556.313480</td>\n",
       "      <td>21192.082763</td>\n",
       "      <td>24900.487521</td>\n",
       "      <td>19311.463901</td>\n",
       "      <td>19761.869943</td>\n",
       "      <td>3545.417644</td>\n",
       "      <td>3545.417644</td>\n",
       "      <td>3545.417644</td>\n",
       "      <td>1588.978500</td>\n",
       "      <td>1588.978500</td>\n",
       "      <td>1588.978500</td>\n",
       "      <td>1392.032204</td>\n",
       "      <td>1392.032204</td>\n",
       "      <td>1392.032204</td>\n",
       "      <td>1392.032204</td>\n",
       "      <td>1392.032204</td>\n",
       "      <td>1392.032204</td>\n",
       "      <td>564.406940</td>\n",
       "      <td>564.406940</td>\n",
       "      <td>564.406940</td>\n",
       "      <td>0.0</td>\n",
       "      <td>0.0</td>\n",
       "      <td>0.0</td>\n",
       "      <td>23101.731124</td>\n",
       "    </tr>\n",
       "    <tr>\n",
       "      <td>332</td>\n",
       "      <td>2019-01-14 20:00:00</td>\n",
       "      <td>19558.008228</td>\n",
       "      <td>21249.619553</td>\n",
       "      <td>25140.028661</td>\n",
       "      <td>19312.052412</td>\n",
       "      <td>19766.658492</td>\n",
       "      <td>3638.511609</td>\n",
       "      <td>3638.511609</td>\n",
       "      <td>3638.511609</td>\n",
       "      <td>1645.168728</td>\n",
       "      <td>1645.168728</td>\n",
       "      <td>1645.168728</td>\n",
       "      <td>1392.032204</td>\n",
       "      <td>1392.032204</td>\n",
       "      <td>1392.032204</td>\n",
       "      <td>1392.032204</td>\n",
       "      <td>1392.032204</td>\n",
       "      <td>1392.032204</td>\n",
       "      <td>601.310676</td>\n",
       "      <td>601.310676</td>\n",
       "      <td>601.310676</td>\n",
       "      <td>0.0</td>\n",
       "      <td>0.0</td>\n",
       "      <td>0.0</td>\n",
       "      <td>23196.519837</td>\n",
       "    </tr>\n",
       "    <tr>\n",
       "      <td>333</td>\n",
       "      <td>2019-01-14 21:00:00</td>\n",
       "      <td>19559.702977</td>\n",
       "      <td>21078.347644</td>\n",
       "      <td>24835.856246</td>\n",
       "      <td>19312.647488</td>\n",
       "      <td>19774.222286</td>\n",
       "      <td>3374.141120</td>\n",
       "      <td>3374.141120</td>\n",
       "      <td>3374.141120</td>\n",
       "      <td>1348.087201</td>\n",
       "      <td>1348.087201</td>\n",
       "      <td>1348.087201</td>\n",
       "      <td>1392.032204</td>\n",
       "      <td>1392.032204</td>\n",
       "      <td>1392.032204</td>\n",
       "      <td>1392.032204</td>\n",
       "      <td>1392.032204</td>\n",
       "      <td>1392.032204</td>\n",
       "      <td>634.021714</td>\n",
       "      <td>634.021714</td>\n",
       "      <td>634.021714</td>\n",
       "      <td>0.0</td>\n",
       "      <td>0.0</td>\n",
       "      <td>0.0</td>\n",
       "      <td>22933.844097</td>\n",
       "    </tr>\n",
       "    <tr>\n",
       "      <td>334</td>\n",
       "      <td>2019-01-14 22:00:00</td>\n",
       "      <td>19561.397726</td>\n",
       "      <td>20609.303629</td>\n",
       "      <td>24297.973225</td>\n",
       "      <td>19313.413003</td>\n",
       "      <td>19779.492887</td>\n",
       "      <td>2906.009154</td>\n",
       "      <td>2906.009154</td>\n",
       "      <td>2906.009154</td>\n",
       "      <td>851.332621</td>\n",
       "      <td>851.332621</td>\n",
       "      <td>851.332621</td>\n",
       "      <td>1392.032204</td>\n",
       "      <td>1392.032204</td>\n",
       "      <td>1392.032204</td>\n",
       "      <td>1392.032204</td>\n",
       "      <td>1392.032204</td>\n",
       "      <td>1392.032204</td>\n",
       "      <td>662.644329</td>\n",
       "      <td>662.644329</td>\n",
       "      <td>662.644329</td>\n",
       "      <td>0.0</td>\n",
       "      <td>0.0</td>\n",
       "      <td>0.0</td>\n",
       "      <td>22467.406880</td>\n",
       "    </tr>\n",
       "    <tr>\n",
       "      <td>335</td>\n",
       "      <td>2019-01-14 23:00:00</td>\n",
       "      <td>19563.092475</td>\n",
       "      <td>20135.588304</td>\n",
       "      <td>23674.084054</td>\n",
       "      <td>19312.743142</td>\n",
       "      <td>19782.083378</td>\n",
       "      <td>2390.635829</td>\n",
       "      <td>2390.635829</td>\n",
       "      <td>2390.635829</td>\n",
       "      <td>311.289509</td>\n",
       "      <td>311.289509</td>\n",
       "      <td>311.289509</td>\n",
       "      <td>1392.032204</td>\n",
       "      <td>1392.032204</td>\n",
       "      <td>1392.032204</td>\n",
       "      <td>1392.032204</td>\n",
       "      <td>1392.032204</td>\n",
       "      <td>1392.032204</td>\n",
       "      <td>687.314116</td>\n",
       "      <td>687.314116</td>\n",
       "      <td>687.314116</td>\n",
       "      <td>0.0</td>\n",
       "      <td>0.0</td>\n",
       "      <td>0.0</td>\n",
       "      <td>21953.728304</td>\n",
       "    </tr>\n",
       "  </tbody>\n",
       "</table>\n",
       "</div>"
      ],
      "text/plain": [
       "                     ds         trend    yhat_lower    yhat_upper   trend_lower   trend_upper  additive_terms  additive_terms_lower  additive_terms_upper        daily  daily_lower  daily_upper  extra_regressors_additive  extra_regressors_additive_lower  extra_regressors_additive_upper  max_temp_paris  max_temp_paris_lower  max_temp_paris_upper      weekly  weekly_lower  weekly_upper  multiplicative_terms  multiplicative_terms_lower  multiplicative_terms_upper          yhat\n",
       "331 2019-01-14 19:00:00  19556.313480  21192.082763  24900.487521  19311.463901  19761.869943     3545.417644           3545.417644           3545.417644  1588.978500  1588.978500  1588.978500                1392.032204                      1392.032204                      1392.032204     1392.032204           1392.032204           1392.032204  564.406940    564.406940    564.406940                   0.0                         0.0                         0.0  23101.731124\n",
       "332 2019-01-14 20:00:00  19558.008228  21249.619553  25140.028661  19312.052412  19766.658492     3638.511609           3638.511609           3638.511609  1645.168728  1645.168728  1645.168728                1392.032204                      1392.032204                      1392.032204     1392.032204           1392.032204           1392.032204  601.310676    601.310676    601.310676                   0.0                         0.0                         0.0  23196.519837\n",
       "333 2019-01-14 21:00:00  19559.702977  21078.347644  24835.856246  19312.647488  19774.222286     3374.141120           3374.141120           3374.141120  1348.087201  1348.087201  1348.087201                1392.032204                      1392.032204                      1392.032204     1392.032204           1392.032204           1392.032204  634.021714    634.021714    634.021714                   0.0                         0.0                         0.0  22933.844097\n",
       "334 2019-01-14 22:00:00  19561.397726  20609.303629  24297.973225  19313.413003  19779.492887     2906.009154           2906.009154           2906.009154   851.332621   851.332621   851.332621                1392.032204                      1392.032204                      1392.032204     1392.032204           1392.032204           1392.032204  662.644329    662.644329    662.644329                   0.0                         0.0                         0.0  22467.406880\n",
       "335 2019-01-14 23:00:00  19563.092475  20135.588304  23674.084054  19312.743142  19782.083378     2390.635829           2390.635829           2390.635829   311.289509   311.289509   311.289509                1392.032204                      1392.032204                      1392.032204     1392.032204           1392.032204           1392.032204  687.314116    687.314116    687.314116                   0.0                         0.0                         0.0  21953.728304"
      ]
     },
     "execution_count": 68,
     "metadata": {},
     "output_type": "execute_result"
    }
   ],
   "source": [
    "future_energy_forcast_ile_de_france_2019_meteo_plot.tail()"
   ]
  },
  {
   "cell_type": "code",
   "execution_count": 69,
   "metadata": {},
   "outputs": [],
   "source": [
    "import matplotlib"
   ]
  },
  {
   "cell_type": "code",
   "execution_count": 80,
   "metadata": {},
   "outputs": [
    {
     "data": {
      "text/plain": [
       "<matplotlib.legend.Legend at 0x1a300c30b8>"
      ]
     },
     "execution_count": 80,
     "metadata": {},
     "output_type": "execute_result"
    },
    {
     "data": {
      "image/png": "[encoded data removed]",
      "text/plain": [
       "<Figure size 1440x576 with 1 Axes>"
      ]
     },
     "metadata": {
      "needs_background": "light"
     },
     "output_type": "display_data"
    }
   ],
   "source": [
    "matplotlib.rcParams.update({'font.size': 22})\n",
    "plt.figure(figsize=(20,8),linewidth=2)\n",
    "plt.plot(future_energy_forcast_ile_de_france_2019_meteo_plot.ds.dt.to_pydatetime(),future_energy_forcast_ile_de_france_2019_meteo_plot.yhat,color='green',label='forecasting',linewidth=2.0)\n",
    "plt.plot(df_region_per_hour_ile_de_france_plot[-650:].date,df_region_per_hour_ile_de_france_plot[-650:]['Consommation (MW)'],color='steelblue',label='real data',linewidth=2.0)\n",
    "plt.fill_between(future_energy_forcast_ile_de_france_2019_plot.ds.dt.to_pydatetime(), future_energy_forcast_ile_de_france_2019_plot['yhat_lower'], future_energy_forcast_ile_de_france_2019_plot['yhat_upper'],\n",
    "                        color='green', alpha=0.2, label='90% confidence interval')\n",
    "plt.title('Ile de France' + \" MAPE : {}%\".format(str(round(100*0.062957, 1))))\n",
    "plt.grid(which='both')\n",
    "plt.ylim([12000, 28000])\n",
    "\n",
    "plt.ylabel(\"consumption (MW)\")\n",
    "plt.rc('xtick', labelsize=18)  \n",
    "plt.rc('ytick', labelsize=18)# fontsize of the axes title\n",
    "plt.rc('axes', titlesize=24)\n",
    "plt.rc('axes', labelsize=18)\n",
    "plt.rc('legend', fontsize=18)\n",
    "plt.margins(0)\n",
    "plt.legend()"
   ]
  },
  {
   "cell_type": "code",
   "execution_count": 67,
   "metadata": {},
   "outputs": [],
   "source": [
    "#measure performance:"
   ]
  },
  {
   "cell_type": "code",
   "execution_count": 71,
   "metadata": {},
   "outputs": [],
   "source": [
    "y_true = df_region_per_hour_ile_de_france_small[(df_region_per_hour_ile_de_france_small['date_time'] >= '2019-01-01')&(df_region_per_hour_ile_de_france_small['date_time'] < '2019-01-15')]['Consommation (MW)']\n"
   ]
  },
  {
   "cell_type": "code",
   "execution_count": 72,
   "metadata": {},
   "outputs": [],
   "source": [
    "y_pred_meteo = future_energy_forcast_ile_de_france_2019_meteo['yhat']"
   ]
  },
  {
   "cell_type": "code",
   "execution_count": 73,
   "metadata": {},
   "outputs": [
    {
     "data": {
      "text/plain": [
       "6.29570846431837"
      ]
     },
     "execution_count": 73,
     "metadata": {},
     "output_type": "execute_result"
    }
   ],
   "source": [
    "mean_absolute_percentage_error(y_true, y_pred_meteo)"
   ]
  }
 ],
 "metadata": {
  "kernelspec": {
   "display_name": "Python 3",
   "language": "python",
   "name": "python3"
  },
  "language_info": {
   "codemirror_mode": {
    "name": "ipython",
    "version": 3
   },
   "file_extension": ".py",
   "mimetype": "text/x-python",
   "name": "python",
   "nbconvert_exporter": "python",
   "pygments_lexer": "ipython3",
   "version": "3.7.1"
  }
 },
 "nbformat": 4,
 "nbformat_minor": 2
}
